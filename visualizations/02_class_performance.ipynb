{
 "cells": [
  {
   "cell_type": "markdown",
   "metadata": {},
   "source": [
    "# Class Performance Analysis\n",
    "\n",
    "This notebook analyzes the performance of individual classes in terms of:\n",
    "- Download success rates\n",
    "- Image counts per class\n",
    "- Quality metrics\n",
    "- Problem identification"
   ]
  },
  {
   "cell_type": "code",
   "execution_count": 1,
   "metadata": {},
   "outputs": [
    {
     "name": "stdout",
     "output_type": "stream",
     "text": [
      "✅ Modules imported successfully\n"
     ]
    }
   ],
   "source": [
    "# Import required modules\n",
    "import sys\n",
    "import os\n",
    "sys.path.append('..')\n",
    "\n",
    "from visualizations.data_loader import (\n",
    "    load_all_metadata,\n",
    "    create_summary_dataframe,\n",
    "    create_image_details_dataframe\n",
    ")\n",
    "\n",
    "from visualizations.plotters import (\n",
    "    plot_class_distribution,\n",
    "    plot_success_rates\n",
    ")\n",
    "\n",
    "import pandas as pd\n",
    "import plotly.express as px\n",
    "import plotly.graph_objects as go\n",
    "from plotly.subplots import make_subplots\n",
    "\n",
    "print(\"✅ Modules imported successfully\")"
   ]
  },
  {
   "cell_type": "code",
   "execution_count": 2,
   "metadata": {},
   "outputs": [
    {
     "name": "stdout",
     "output_type": "stream",
     "text": [
      "Found 100 metadata files\n",
      "✅ Successfully loaded 100 metadata files\n",
      "📊 Analyzing 100 classes\n"
     ]
    }
   ],
   "source": [
    "# Load data\n",
    "metadata_list = load_all_metadata()\n",
    "summary_df = create_summary_dataframe(metadata_list)\n",
    "image_df = create_image_details_dataframe(metadata_list)\n",
    "\n",
    "print(f\"📊 Analyzing {len(summary_df)} classes\")"
   ]
  },
  {
   "cell_type": "code",
   "execution_count": 3,
   "metadata": {},
   "outputs": [
    {
     "data": {
      "application/vnd.plotly.v1+json": {
       "config": {
        "plotlyServerURL": "https://plot.ly"
       },
       "data": [
        {
         "orientation": "h",
         "text": {
          "bdata": "AAAAAABAf0AAAAAAAEB/QAAAAAAAQH9AAAAAAABAf0AAAAAAAEB/QAAAAAAAQH9AAAAAAABAf0AAAAAAAEB/QAAAAAAAQH9AAAAAAABAf0AAAAAAAEB/QAAAAAAAQH9AAAAAAABAf0AAAAAAAEB/QAAAAAAAQH9AAAAAAABAf0AAAAAAAEB/QAAAAAAAQH9AAAAAAABAf0AAAAAAAEB/QA==",
          "dtype": "f8"
         },
         "textposition": "auto",
         "type": "bar",
         "x": {
          "bdata": "9AH0AfQB9AH0AfQB9AH0AfQB9AH0AfQB9AH0AfQB9AH0AfQB9AH0AQ==",
          "dtype": "i2"
         },
         "y": [
          "Adobong Sitaw",
          "Ampalaya con Itlog",
          "Chopsuey",
          "Bulanglang",
          "Lumpiang Sariwa",
          "Arroz Caldo",
          "Ginataang Kalabasa at Sitaw",
          "Ginataang Puso ng Saging",
          "Ginisang Repolyo",
          "Gising-Gising",
          "Ginisang Pechay",
          "Lumpiang Togue",
          "Inasal na Isol",
          "Tokwa't Baboy",
          "Kare-Kare",
          "Suman",
          "Sinangag",
          "Tocilog",
          "Turon",
          "White Rice"
         ]
        }
       ],
       "layout": {
        "height": 500,
        "template": {
         "data": {
          "bar": [
           {
            "error_x": {
             "color": "#2a3f5f"
            },
            "error_y": {
             "color": "#2a3f5f"
            },
            "marker": {
             "line": {
              "color": "#E5ECF6",
              "width": 0.5
             },
             "pattern": {
              "fillmode": "overlay",
              "size": 10,
              "solidity": 0.2
             }
            },
            "type": "bar"
           }
          ],
          "barpolar": [
           {
            "marker": {
             "line": {
              "color": "#E5ECF6",
              "width": 0.5
             },
             "pattern": {
              "fillmode": "overlay",
              "size": 10,
              "solidity": 0.2
             }
            },
            "type": "barpolar"
           }
          ],
          "carpet": [
           {
            "aaxis": {
             "endlinecolor": "#2a3f5f",
             "gridcolor": "white",
             "linecolor": "white",
             "minorgridcolor": "white",
             "startlinecolor": "#2a3f5f"
            },
            "baxis": {
             "endlinecolor": "#2a3f5f",
             "gridcolor": "white",
             "linecolor": "white",
             "minorgridcolor": "white",
             "startlinecolor": "#2a3f5f"
            },
            "type": "carpet"
           }
          ],
          "choropleth": [
           {
            "colorbar": {
             "outlinewidth": 0,
             "ticks": ""
            },
            "type": "choropleth"
           }
          ],
          "contour": [
           {
            "colorbar": {
             "outlinewidth": 0,
             "ticks": ""
            },
            "colorscale": [
             [
              0,
              "#0d0887"
             ],
             [
              0.1111111111111111,
              "#46039f"
             ],
             [
              0.2222222222222222,
              "#7201a8"
             ],
             [
              0.3333333333333333,
              "#9c179e"
             ],
             [
              0.4444444444444444,
              "#bd3786"
             ],
             [
              0.5555555555555556,
              "#d8576b"
             ],
             [
              0.6666666666666666,
              "#ed7953"
             ],
             [
              0.7777777777777778,
              "#fb9f3a"
             ],
             [
              0.8888888888888888,
              "#fdca26"
             ],
             [
              1,
              "#f0f921"
             ]
            ],
            "type": "contour"
           }
          ],
          "contourcarpet": [
           {
            "colorbar": {
             "outlinewidth": 0,
             "ticks": ""
            },
            "type": "contourcarpet"
           }
          ],
          "heatmap": [
           {
            "colorbar": {
             "outlinewidth": 0,
             "ticks": ""
            },
            "colorscale": [
             [
              0,
              "#0d0887"
             ],
             [
              0.1111111111111111,
              "#46039f"
             ],
             [
              0.2222222222222222,
              "#7201a8"
             ],
             [
              0.3333333333333333,
              "#9c179e"
             ],
             [
              0.4444444444444444,
              "#bd3786"
             ],
             [
              0.5555555555555556,
              "#d8576b"
             ],
             [
              0.6666666666666666,
              "#ed7953"
             ],
             [
              0.7777777777777778,
              "#fb9f3a"
             ],
             [
              0.8888888888888888,
              "#fdca26"
             ],
             [
              1,
              "#f0f921"
             ]
            ],
            "type": "heatmap"
           }
          ],
          "histogram": [
           {
            "marker": {
             "pattern": {
              "fillmode": "overlay",
              "size": 10,
              "solidity": 0.2
             }
            },
            "type": "histogram"
           }
          ],
          "histogram2d": [
           {
            "colorbar": {
             "outlinewidth": 0,
             "ticks": ""
            },
            "colorscale": [
             [
              0,
              "#0d0887"
             ],
             [
              0.1111111111111111,
              "#46039f"
             ],
             [
              0.2222222222222222,
              "#7201a8"
             ],
             [
              0.3333333333333333,
              "#9c179e"
             ],
             [
              0.4444444444444444,
              "#bd3786"
             ],
             [
              0.5555555555555556,
              "#d8576b"
             ],
             [
              0.6666666666666666,
              "#ed7953"
             ],
             [
              0.7777777777777778,
              "#fb9f3a"
             ],
             [
              0.8888888888888888,
              "#fdca26"
             ],
             [
              1,
              "#f0f921"
             ]
            ],
            "type": "histogram2d"
           }
          ],
          "histogram2dcontour": [
           {
            "colorbar": {
             "outlinewidth": 0,
             "ticks": ""
            },
            "colorscale": [
             [
              0,
              "#0d0887"
             ],
             [
              0.1111111111111111,
              "#46039f"
             ],
             [
              0.2222222222222222,
              "#7201a8"
             ],
             [
              0.3333333333333333,
              "#9c179e"
             ],
             [
              0.4444444444444444,
              "#bd3786"
             ],
             [
              0.5555555555555556,
              "#d8576b"
             ],
             [
              0.6666666666666666,
              "#ed7953"
             ],
             [
              0.7777777777777778,
              "#fb9f3a"
             ],
             [
              0.8888888888888888,
              "#fdca26"
             ],
             [
              1,
              "#f0f921"
             ]
            ],
            "type": "histogram2dcontour"
           }
          ],
          "mesh3d": [
           {
            "colorbar": {
             "outlinewidth": 0,
             "ticks": ""
            },
            "type": "mesh3d"
           }
          ],
          "parcoords": [
           {
            "line": {
             "colorbar": {
              "outlinewidth": 0,
              "ticks": ""
             }
            },
            "type": "parcoords"
           }
          ],
          "pie": [
           {
            "automargin": true,
            "type": "pie"
           }
          ],
          "scatter": [
           {
            "fillpattern": {
             "fillmode": "overlay",
             "size": 10,
             "solidity": 0.2
            },
            "type": "scatter"
           }
          ],
          "scatter3d": [
           {
            "line": {
             "colorbar": {
              "outlinewidth": 0,
              "ticks": ""
             }
            },
            "marker": {
             "colorbar": {
              "outlinewidth": 0,
              "ticks": ""
             }
            },
            "type": "scatter3d"
           }
          ],
          "scattercarpet": [
           {
            "marker": {
             "colorbar": {
              "outlinewidth": 0,
              "ticks": ""
             }
            },
            "type": "scattercarpet"
           }
          ],
          "scattergeo": [
           {
            "marker": {
             "colorbar": {
              "outlinewidth": 0,
              "ticks": ""
             }
            },
            "type": "scattergeo"
           }
          ],
          "scattergl": [
           {
            "marker": {
             "colorbar": {
              "outlinewidth": 0,
              "ticks": ""
             }
            },
            "type": "scattergl"
           }
          ],
          "scattermap": [
           {
            "marker": {
             "colorbar": {
              "outlinewidth": 0,
              "ticks": ""
             }
            },
            "type": "scattermap"
           }
          ],
          "scattermapbox": [
           {
            "marker": {
             "colorbar": {
              "outlinewidth": 0,
              "ticks": ""
             }
            },
            "type": "scattermapbox"
           }
          ],
          "scatterpolar": [
           {
            "marker": {
             "colorbar": {
              "outlinewidth": 0,
              "ticks": ""
             }
            },
            "type": "scatterpolar"
           }
          ],
          "scatterpolargl": [
           {
            "marker": {
             "colorbar": {
              "outlinewidth": 0,
              "ticks": ""
             }
            },
            "type": "scatterpolargl"
           }
          ],
          "scatterternary": [
           {
            "marker": {
             "colorbar": {
              "outlinewidth": 0,
              "ticks": ""
             }
            },
            "type": "scatterternary"
           }
          ],
          "surface": [
           {
            "colorbar": {
             "outlinewidth": 0,
             "ticks": ""
            },
            "colorscale": [
             [
              0,
              "#0d0887"
             ],
             [
              0.1111111111111111,
              "#46039f"
             ],
             [
              0.2222222222222222,
              "#7201a8"
             ],
             [
              0.3333333333333333,
              "#9c179e"
             ],
             [
              0.4444444444444444,
              "#bd3786"
             ],
             [
              0.5555555555555556,
              "#d8576b"
             ],
             [
              0.6666666666666666,
              "#ed7953"
             ],
             [
              0.7777777777777778,
              "#fb9f3a"
             ],
             [
              0.8888888888888888,
              "#fdca26"
             ],
             [
              1,
              "#f0f921"
             ]
            ],
            "type": "surface"
           }
          ],
          "table": [
           {
            "cells": {
             "fill": {
              "color": "#EBF0F8"
             },
             "line": {
              "color": "white"
             }
            },
            "header": {
             "fill": {
              "color": "#C8D4E3"
             },
             "line": {
              "color": "white"
             }
            },
            "type": "table"
           }
          ]
         },
         "layout": {
          "annotationdefaults": {
           "arrowcolor": "#2a3f5f",
           "arrowhead": 0,
           "arrowwidth": 1
          },
          "autotypenumbers": "strict",
          "coloraxis": {
           "colorbar": {
            "outlinewidth": 0,
            "ticks": ""
           }
          },
          "colorscale": {
           "diverging": [
            [
             0,
             "#8e0152"
            ],
            [
             0.1,
             "#c51b7d"
            ],
            [
             0.2,
             "#de77ae"
            ],
            [
             0.3,
             "#f1b6da"
            ],
            [
             0.4,
             "#fde0ef"
            ],
            [
             0.5,
             "#f7f7f7"
            ],
            [
             0.6,
             "#e6f5d0"
            ],
            [
             0.7,
             "#b8e186"
            ],
            [
             0.8,
             "#7fbc41"
            ],
            [
             0.9,
             "#4d9221"
            ],
            [
             1,
             "#276419"
            ]
           ],
           "sequential": [
            [
             0,
             "#0d0887"
            ],
            [
             0.1111111111111111,
             "#46039f"
            ],
            [
             0.2222222222222222,
             "#7201a8"
            ],
            [
             0.3333333333333333,
             "#9c179e"
            ],
            [
             0.4444444444444444,
             "#bd3786"
            ],
            [
             0.5555555555555556,
             "#d8576b"
            ],
            [
             0.6666666666666666,
             "#ed7953"
            ],
            [
             0.7777777777777778,
             "#fb9f3a"
            ],
            [
             0.8888888888888888,
             "#fdca26"
            ],
            [
             1,
             "#f0f921"
            ]
           ],
           "sequentialminus": [
            [
             0,
             "#0d0887"
            ],
            [
             0.1111111111111111,
             "#46039f"
            ],
            [
             0.2222222222222222,
             "#7201a8"
            ],
            [
             0.3333333333333333,
             "#9c179e"
            ],
            [
             0.4444444444444444,
             "#bd3786"
            ],
            [
             0.5555555555555556,
             "#d8576b"
            ],
            [
             0.6666666666666666,
             "#ed7953"
            ],
            [
             0.7777777777777778,
             "#fb9f3a"
            ],
            [
             0.8888888888888888,
             "#fdca26"
            ],
            [
             1,
             "#f0f921"
            ]
           ]
          },
          "colorway": [
           "#636efa",
           "#EF553B",
           "#00cc96",
           "#ab63fa",
           "#FFA15A",
           "#19d3f3",
           "#FF6692",
           "#B6E880",
           "#FF97FF",
           "#FECB52"
          ],
          "font": {
           "color": "#2a3f5f"
          },
          "geo": {
           "bgcolor": "white",
           "lakecolor": "white",
           "landcolor": "#E5ECF6",
           "showlakes": true,
           "showland": true,
           "subunitcolor": "white"
          },
          "hoverlabel": {
           "align": "left"
          },
          "hovermode": "closest",
          "mapbox": {
           "style": "light"
          },
          "paper_bgcolor": "white",
          "plot_bgcolor": "#E5ECF6",
          "polar": {
           "angularaxis": {
            "gridcolor": "white",
            "linecolor": "white",
            "ticks": ""
           },
           "bgcolor": "#E5ECF6",
           "radialaxis": {
            "gridcolor": "white",
            "linecolor": "white",
            "ticks": ""
           }
          },
          "scene": {
           "xaxis": {
            "backgroundcolor": "#E5ECF6",
            "gridcolor": "white",
            "gridwidth": 2,
            "linecolor": "white",
            "showbackground": true,
            "ticks": "",
            "zerolinecolor": "white"
           },
           "yaxis": {
            "backgroundcolor": "#E5ECF6",
            "gridcolor": "white",
            "gridwidth": 2,
            "linecolor": "white",
            "showbackground": true,
            "ticks": "",
            "zerolinecolor": "white"
           },
           "zaxis": {
            "backgroundcolor": "#E5ECF6",
            "gridcolor": "white",
            "gridwidth": 2,
            "linecolor": "white",
            "showbackground": true,
            "ticks": "",
            "zerolinecolor": "white"
           }
          },
          "shapedefaults": {
           "line": {
            "color": "#2a3f5f"
           }
          },
          "ternary": {
           "aaxis": {
            "gridcolor": "white",
            "linecolor": "white",
            "ticks": ""
           },
           "baxis": {
            "gridcolor": "white",
            "linecolor": "white",
            "ticks": ""
           },
           "bgcolor": "#E5ECF6",
           "caxis": {
            "gridcolor": "white",
            "linecolor": "white",
            "ticks": ""
           }
          },
          "title": {
           "x": 0.05
          },
          "xaxis": {
           "automargin": true,
           "gridcolor": "white",
           "linecolor": "white",
           "ticks": "",
           "title": {
            "standoff": 15
           },
           "zerolinecolor": "white",
           "zerolinewidth": 2
          },
          "yaxis": {
           "automargin": true,
           "gridcolor": "white",
           "linecolor": "white",
           "ticks": "",
           "title": {
            "standoff": 15
           },
           "zerolinecolor": "white",
           "zerolinewidth": 2
          }
         }
        },
        "title": {
         "text": "📈 Top 20 Classes by Image Count"
        },
        "xaxis": {
         "title": {
          "text": "Number of Images"
         }
        },
        "yaxis": {
         "categoryorder": "total ascending",
         "title": {
          "text": "Class Name"
         }
        }
       }
      }
     },
     "metadata": {},
     "output_type": "display_data"
    }
   ],
   "source": [
    "# Class distribution analysis\n",
    "plot_class_distribution(summary_df, top_n=20, use_plotly=True)"
   ]
  },
  {
   "cell_type": "code",
   "execution_count": 4,
   "metadata": {},
   "outputs": [
    {
     "data": {
      "application/vnd.plotly.v1+json": {
       "config": {
        "plotlyServerURL": "https://plot.ly"
       },
       "data": [
        {
         "name": "Success Rate Distribution",
         "nbinsx": 20,
         "type": "histogram",
         "x": {
          "bdata": "MzMzMzPzWEAAAAAAAABZQJqZmZmZ2VhAAAAAAAAAWUAAAAAAAABZQAAAAAAAAFlAZmZmZmbmWED+4xILt+9YQOq+PLYiyFdAeFSz/gx+WEAAAAAAAABZQAAAAAAAAFlAAAAAAAAAWUDDJazyd8hYQDMzMzMz81hAAAAAAAAAWUAAAAAAAABZQAAAAAAAAFlAMzMzMzPzWEAAAAAAAABZQAAAAAAAAFlAMzMzMzPzWEAzMzMzM/NYQOzETuzEzlhAAAAAAAAAWUAAAAAAAABZQDMzMzMz81hAMzMzMzPzWEDNzMzMzMxYQM3MzMzMzFhAMzMzMzOzWEA+3uM93uNYQM3MzMzMzFhAAAAAAADAWEAAAAAAAABZQGZmZmZm5lhAMzMzMzPzWEAAAAAAAABZQDMzMzMz81hAMzMzMzPzWEBmZmZmZuZYQDMzMzMz81hAAAAAAAAAWUAAAAAAAABZQDMzMzMz81hAAAAAAAAAWUAAAAAAAABZQAAAAAAAAFlAAAAAAAAAWUAAAAAAAABZQAAAAAAAAFlAAAAAAAAAWUAzMzMzM/NYQAAAAAAAAFlAMzMzMzPzWEAAAAAAAABZQAAAAAAAAFlAMzMzMzPzWEAAAAAAAABZQAAAAAAAAFlAAAAAAAAAWUBmZmZmZuZYQAAAAAAAAFlAAAAAAAAAWUAAAAAAAABZQAAAAAAAAFlAAAAAAAAAWUAzMzMzM/NYQDMzMzMz81hAZmZmZmbmWEAAAAAAAABZQAAAAAAAAFlAAAAAAAAAWUAzMzMzM/NYQAAAAAAAAFlAAAAAAAAAWUAAAAAAAMBYQGZmZmZm5lhAZmZmZmbmWEAAAAAAAABZQAAAAAAAAFlAAAAAAAAAWUCVnQcHpEhXQAAAAAAAAFlAAAAAAAAAWUAAAAAAAABZQAAAAAAAAFlAAAAAAAAAWUAAAAAAAABZQAAAAAAAAFlAZmZmZmbmWEAzMzMzM/NYQJqZmZmZ2VhAMzMzMzPzWEAzMzMzM/NYQAAAAAAAAFlAAAAAAAAAWUAAAAAAAABZQDMzMzMz81hAAAAAAAAAWUA=",
          "dtype": "f8"
         },
         "xaxis": "x",
         "yaxis": "y"
        },
        {
         "name": "Category Success Rate",
         "text": [
          "99.5%",
          "99.9%",
          "99.7%"
         ],
         "textposition": "auto",
         "type": "bar",
         "x": [
          "Glow",
          "Go",
          "Grow"
         ],
         "xaxis": "x2",
         "y": {
          "bdata": "t5T3/nDhWEB6HanXkfpYQI2FkM7D6VhA",
          "dtype": "f8"
         },
         "yaxis": "y2"
        },
        {
         "mode": "markers",
         "name": "Success vs Count",
         "text": [
          "Adobong Kangkong",
          "Adobong Sitaw",
          "Adobong Talong",
          "Ampalaya con Itlog",
          "Bulanglang",
          "Chopsuey",
          "Ensaladang Ampalaya",
          "Ensaladang Lato",
          "Ensaladang Mangga",
          "Ensaladang Talong",
          "Ginataang Kalabasa at Sitaw",
          "Ginataang Langka",
          "Ginataang Puso ng Saging",
          "Ginisang Ampalaya",
          "Ginisang Monggo",
          "Ginisang Pechay",
          "Ginisang Repolyo",
          "Ginisang Sayote",
          "Ginisang Sitaw",
          "Gising-Gising",
          "Inabraw",
          "Inihaw na Talong",
          "Laing",
          "Laswa",
          "Lumpiang Sariwa",
          "Lumpiang Togue",
          "Nilagang Gulay",
          "Okoy",
          "Pakbet Ilokano",
          "Pakbet Tagalog",
          "Pinakbet",
          "Pritong Talong",
          "Relyenong Talong",
          "Tortang Talong",
          "Arroz Caldo",
          "Banana Cue",
          "Bangsilog",
          "Batchoy",
          "Bibingka",
          "Biko",
          "Champorado",
          "Cornsilog",
          "Espasol",
          "Goto",
          "Hotsilog",
          "Kamote Cue",
          "Kutsinta",
          "Longsilog",
          "Palitaw",
          "Pancit Bihon",
          "Pancit Canton",
          "Pancit Habhab",
          "Pancit Lomi",
          "Pancit Malabon",
          "Pancit Mami",
          "Pancit Palabok",
          "Pandesal",
          "Puto",
          "Puto Bumbong",
          "Sapin-sapin",
          "Sinangag",
          "Spamsilog",
          "Suman",
          "Tapsilog",
          "Tocilog",
          "Turon",
          "White Rice",
          "Adobo sa Gata",
          "Adobong Baboy",
          "Adobong Dilaw",
          "Adobong Manok",
          "Adobong Pula",
          "Adobong Pusit",
          "Balut",
          "Bicol Express",
          "Binagoongan",
          "Bistek",
          "Bopis",
          "Crispy Pata",
          "Dinuguan",
          "Inasal na Isol",
          "Inasal na Paa",
          "Inasal na Pakpak",
          "Inasal na Pecho",
          "Inihaw na Liempo",
          "Kalderetang Baboy",
          "Kalderetang Baka",
          "Kalderetang Kambing",
          "Kalderetang Manok",
          "Kare-Kare",
          "Lechon",
          "Maskara",
          "Papaitan",
          "Pork Barbecue",
          "Sinigang na Baboy",
          "Sinigang na Baka",
          "Sinigang na Bangus",
          "Sinigang na Hipon",
          "Tinola",
          "Tokwa't Baboy"
         ],
         "type": "scatter",
         "x": {
          "bdata": "8wH0AfEB9AH0AfQB8gGIAcEBggH0AdoB9AHJAfMB9AH0AcMB8wH0AWoB8wHzAQIB9AH0AfMB8wHwAfAB7gHFAfAB7wH0AfIB8wH0AfMB8wHyAfMB9AH0AfMB9AH0AfQB9AH0AfQB9AHzAfQB8wH0AfQB8wH0AfQB9AHyAfQB9AH0AfQB9AHzAfMB8gH0AfQB9AHzAfQB9AHvAfIB8gH0AfQB9AGXAfQB9AH0AfQB9AH0AfQB8gHzAfEB8wHzAfQB9AH0AfMB9AE=",
          "dtype": "i2"
         },
         "xaxis": "x3",
         "y": {
          "bdata": "MzMzMzPzWEAAAAAAAABZQJqZmZmZ2VhAAAAAAAAAWUAAAAAAAABZQAAAAAAAAFlAZmZmZmbmWED+4xILt+9YQOq+PLYiyFdAeFSz/gx+WEAAAAAAAABZQAAAAAAAAFlAAAAAAAAAWUDDJazyd8hYQDMzMzMz81hAAAAAAAAAWUAAAAAAAABZQAAAAAAAAFlAMzMzMzPzWEAAAAAAAABZQAAAAAAAAFlAMzMzMzPzWEAzMzMzM/NYQOzETuzEzlhAAAAAAAAAWUAAAAAAAABZQDMzMzMz81hAMzMzMzPzWEDNzMzMzMxYQM3MzMzMzFhAMzMzMzOzWEA+3uM93uNYQM3MzMzMzFhAAAAAAADAWEAAAAAAAABZQGZmZmZm5lhAMzMzMzPzWEAAAAAAAABZQDMzMzMz81hAMzMzMzPzWEBmZmZmZuZYQDMzMzMz81hAAAAAAAAAWUAAAAAAAABZQDMzMzMz81hAAAAAAAAAWUAAAAAAAABZQAAAAAAAAFlAAAAAAAAAWUAAAAAAAABZQAAAAAAAAFlAAAAAAAAAWUAzMzMzM/NYQAAAAAAAAFlAMzMzMzPzWEAAAAAAAABZQAAAAAAAAFlAMzMzMzPzWEAAAAAAAABZQAAAAAAAAFlAAAAAAAAAWUBmZmZmZuZYQAAAAAAAAFlAAAAAAAAAWUAAAAAAAABZQAAAAAAAAFlAAAAAAAAAWUAzMzMzM/NYQDMzMzMz81hAZmZmZmbmWEAAAAAAAABZQAAAAAAAAFlAAAAAAAAAWUAzMzMzM/NYQAAAAAAAAFlAAAAAAAAAWUAAAAAAAMBYQGZmZmZm5lhAZmZmZmbmWEAAAAAAAABZQAAAAAAAAFlAAAAAAAAAWUCVnQcHpEhXQAAAAAAAAFlAAAAAAAAAWUAAAAAAAABZQAAAAAAAAFlAAAAAAAAAWUAAAAAAAABZQAAAAAAAAFlAZmZmZmbmWEAzMzMzM/NYQJqZmZmZ2VhAMzMzMzPzWEAzMzMzM/NYQAAAAAAAAFlAAAAAAAAAWUAAAAAAAABZQDMzMzMz81hAAAAAAAAAWUA=",
          "dtype": "f8"
         },
         "yaxis": "y3"
        }
       ],
       "layout": {
        "annotations": [
         {
          "font": {
           "size": 16
          },
          "showarrow": false,
          "text": "Overall Success Rate Distribution",
          "x": 0.225,
          "xanchor": "center",
          "xref": "paper",
          "y": 1,
          "yanchor": "bottom",
          "yref": "paper"
         },
         {
          "font": {
           "size": 16
          },
          "showarrow": false,
          "text": "Success Rate by Category",
          "x": 0.775,
          "xanchor": "center",
          "xref": "paper",
          "y": 1,
          "yanchor": "bottom",
          "yref": "paper"
         },
         {
          "font": {
           "size": 16
          },
          "showarrow": false,
          "text": "Success Rate vs Images Downloaded",
          "x": 0.225,
          "xanchor": "center",
          "xref": "paper",
          "y": 0.375,
          "yanchor": "bottom",
          "yref": "paper"
         },
         {
          "font": {
           "size": 16
          },
          "showarrow": false,
          "text": "Classes with Low Success Rates",
          "x": 0.775,
          "xanchor": "center",
          "xref": "paper",
          "y": 0.375,
          "yanchor": "bottom",
          "yref": "paper"
         }
        ],
        "height": 800,
        "showlegend": false,
        "template": {
         "data": {
          "bar": [
           {
            "error_x": {
             "color": "#2a3f5f"
            },
            "error_y": {
             "color": "#2a3f5f"
            },
            "marker": {
             "line": {
              "color": "#E5ECF6",
              "width": 0.5
             },
             "pattern": {
              "fillmode": "overlay",
              "size": 10,
              "solidity": 0.2
             }
            },
            "type": "bar"
           }
          ],
          "barpolar": [
           {
            "marker": {
             "line": {
              "color": "#E5ECF6",
              "width": 0.5
             },
             "pattern": {
              "fillmode": "overlay",
              "size": 10,
              "solidity": 0.2
             }
            },
            "type": "barpolar"
           }
          ],
          "carpet": [
           {
            "aaxis": {
             "endlinecolor": "#2a3f5f",
             "gridcolor": "white",
             "linecolor": "white",
             "minorgridcolor": "white",
             "startlinecolor": "#2a3f5f"
            },
            "baxis": {
             "endlinecolor": "#2a3f5f",
             "gridcolor": "white",
             "linecolor": "white",
             "minorgridcolor": "white",
             "startlinecolor": "#2a3f5f"
            },
            "type": "carpet"
           }
          ],
          "choropleth": [
           {
            "colorbar": {
             "outlinewidth": 0,
             "ticks": ""
            },
            "type": "choropleth"
           }
          ],
          "contour": [
           {
            "colorbar": {
             "outlinewidth": 0,
             "ticks": ""
            },
            "colorscale": [
             [
              0,
              "#0d0887"
             ],
             [
              0.1111111111111111,
              "#46039f"
             ],
             [
              0.2222222222222222,
              "#7201a8"
             ],
             [
              0.3333333333333333,
              "#9c179e"
             ],
             [
              0.4444444444444444,
              "#bd3786"
             ],
             [
              0.5555555555555556,
              "#d8576b"
             ],
             [
              0.6666666666666666,
              "#ed7953"
             ],
             [
              0.7777777777777778,
              "#fb9f3a"
             ],
             [
              0.8888888888888888,
              "#fdca26"
             ],
             [
              1,
              "#f0f921"
             ]
            ],
            "type": "contour"
           }
          ],
          "contourcarpet": [
           {
            "colorbar": {
             "outlinewidth": 0,
             "ticks": ""
            },
            "type": "contourcarpet"
           }
          ],
          "heatmap": [
           {
            "colorbar": {
             "outlinewidth": 0,
             "ticks": ""
            },
            "colorscale": [
             [
              0,
              "#0d0887"
             ],
             [
              0.1111111111111111,
              "#46039f"
             ],
             [
              0.2222222222222222,
              "#7201a8"
             ],
             [
              0.3333333333333333,
              "#9c179e"
             ],
             [
              0.4444444444444444,
              "#bd3786"
             ],
             [
              0.5555555555555556,
              "#d8576b"
             ],
             [
              0.6666666666666666,
              "#ed7953"
             ],
             [
              0.7777777777777778,
              "#fb9f3a"
             ],
             [
              0.8888888888888888,
              "#fdca26"
             ],
             [
              1,
              "#f0f921"
             ]
            ],
            "type": "heatmap"
           }
          ],
          "histogram": [
           {
            "marker": {
             "pattern": {
              "fillmode": "overlay",
              "size": 10,
              "solidity": 0.2
             }
            },
            "type": "histogram"
           }
          ],
          "histogram2d": [
           {
            "colorbar": {
             "outlinewidth": 0,
             "ticks": ""
            },
            "colorscale": [
             [
              0,
              "#0d0887"
             ],
             [
              0.1111111111111111,
              "#46039f"
             ],
             [
              0.2222222222222222,
              "#7201a8"
             ],
             [
              0.3333333333333333,
              "#9c179e"
             ],
             [
              0.4444444444444444,
              "#bd3786"
             ],
             [
              0.5555555555555556,
              "#d8576b"
             ],
             [
              0.6666666666666666,
              "#ed7953"
             ],
             [
              0.7777777777777778,
              "#fb9f3a"
             ],
             [
              0.8888888888888888,
              "#fdca26"
             ],
             [
              1,
              "#f0f921"
             ]
            ],
            "type": "histogram2d"
           }
          ],
          "histogram2dcontour": [
           {
            "colorbar": {
             "outlinewidth": 0,
             "ticks": ""
            },
            "colorscale": [
             [
              0,
              "#0d0887"
             ],
             [
              0.1111111111111111,
              "#46039f"
             ],
             [
              0.2222222222222222,
              "#7201a8"
             ],
             [
              0.3333333333333333,
              "#9c179e"
             ],
             [
              0.4444444444444444,
              "#bd3786"
             ],
             [
              0.5555555555555556,
              "#d8576b"
             ],
             [
              0.6666666666666666,
              "#ed7953"
             ],
             [
              0.7777777777777778,
              "#fb9f3a"
             ],
             [
              0.8888888888888888,
              "#fdca26"
             ],
             [
              1,
              "#f0f921"
             ]
            ],
            "type": "histogram2dcontour"
           }
          ],
          "mesh3d": [
           {
            "colorbar": {
             "outlinewidth": 0,
             "ticks": ""
            },
            "type": "mesh3d"
           }
          ],
          "parcoords": [
           {
            "line": {
             "colorbar": {
              "outlinewidth": 0,
              "ticks": ""
             }
            },
            "type": "parcoords"
           }
          ],
          "pie": [
           {
            "automargin": true,
            "type": "pie"
           }
          ],
          "scatter": [
           {
            "fillpattern": {
             "fillmode": "overlay",
             "size": 10,
             "solidity": 0.2
            },
            "type": "scatter"
           }
          ],
          "scatter3d": [
           {
            "line": {
             "colorbar": {
              "outlinewidth": 0,
              "ticks": ""
             }
            },
            "marker": {
             "colorbar": {
              "outlinewidth": 0,
              "ticks": ""
             }
            },
            "type": "scatter3d"
           }
          ],
          "scattercarpet": [
           {
            "marker": {
             "colorbar": {
              "outlinewidth": 0,
              "ticks": ""
             }
            },
            "type": "scattercarpet"
           }
          ],
          "scattergeo": [
           {
            "marker": {
             "colorbar": {
              "outlinewidth": 0,
              "ticks": ""
             }
            },
            "type": "scattergeo"
           }
          ],
          "scattergl": [
           {
            "marker": {
             "colorbar": {
              "outlinewidth": 0,
              "ticks": ""
             }
            },
            "type": "scattergl"
           }
          ],
          "scattermap": [
           {
            "marker": {
             "colorbar": {
              "outlinewidth": 0,
              "ticks": ""
             }
            },
            "type": "scattermap"
           }
          ],
          "scattermapbox": [
           {
            "marker": {
             "colorbar": {
              "outlinewidth": 0,
              "ticks": ""
             }
            },
            "type": "scattermapbox"
           }
          ],
          "scatterpolar": [
           {
            "marker": {
             "colorbar": {
              "outlinewidth": 0,
              "ticks": ""
             }
            },
            "type": "scatterpolar"
           }
          ],
          "scatterpolargl": [
           {
            "marker": {
             "colorbar": {
              "outlinewidth": 0,
              "ticks": ""
             }
            },
            "type": "scatterpolargl"
           }
          ],
          "scatterternary": [
           {
            "marker": {
             "colorbar": {
              "outlinewidth": 0,
              "ticks": ""
             }
            },
            "type": "scatterternary"
           }
          ],
          "surface": [
           {
            "colorbar": {
             "outlinewidth": 0,
             "ticks": ""
            },
            "colorscale": [
             [
              0,
              "#0d0887"
             ],
             [
              0.1111111111111111,
              "#46039f"
             ],
             [
              0.2222222222222222,
              "#7201a8"
             ],
             [
              0.3333333333333333,
              "#9c179e"
             ],
             [
              0.4444444444444444,
              "#bd3786"
             ],
             [
              0.5555555555555556,
              "#d8576b"
             ],
             [
              0.6666666666666666,
              "#ed7953"
             ],
             [
              0.7777777777777778,
              "#fb9f3a"
             ],
             [
              0.8888888888888888,
              "#fdca26"
             ],
             [
              1,
              "#f0f921"
             ]
            ],
            "type": "surface"
           }
          ],
          "table": [
           {
            "cells": {
             "fill": {
              "color": "#EBF0F8"
             },
             "line": {
              "color": "white"
             }
            },
            "header": {
             "fill": {
              "color": "#C8D4E3"
             },
             "line": {
              "color": "white"
             }
            },
            "type": "table"
           }
          ]
         },
         "layout": {
          "annotationdefaults": {
           "arrowcolor": "#2a3f5f",
           "arrowhead": 0,
           "arrowwidth": 1
          },
          "autotypenumbers": "strict",
          "coloraxis": {
           "colorbar": {
            "outlinewidth": 0,
            "ticks": ""
           }
          },
          "colorscale": {
           "diverging": [
            [
             0,
             "#8e0152"
            ],
            [
             0.1,
             "#c51b7d"
            ],
            [
             0.2,
             "#de77ae"
            ],
            [
             0.3,
             "#f1b6da"
            ],
            [
             0.4,
             "#fde0ef"
            ],
            [
             0.5,
             "#f7f7f7"
            ],
            [
             0.6,
             "#e6f5d0"
            ],
            [
             0.7,
             "#b8e186"
            ],
            [
             0.8,
             "#7fbc41"
            ],
            [
             0.9,
             "#4d9221"
            ],
            [
             1,
             "#276419"
            ]
           ],
           "sequential": [
            [
             0,
             "#0d0887"
            ],
            [
             0.1111111111111111,
             "#46039f"
            ],
            [
             0.2222222222222222,
             "#7201a8"
            ],
            [
             0.3333333333333333,
             "#9c179e"
            ],
            [
             0.4444444444444444,
             "#bd3786"
            ],
            [
             0.5555555555555556,
             "#d8576b"
            ],
            [
             0.6666666666666666,
             "#ed7953"
            ],
            [
             0.7777777777777778,
             "#fb9f3a"
            ],
            [
             0.8888888888888888,
             "#fdca26"
            ],
            [
             1,
             "#f0f921"
            ]
           ],
           "sequentialminus": [
            [
             0,
             "#0d0887"
            ],
            [
             0.1111111111111111,
             "#46039f"
            ],
            [
             0.2222222222222222,
             "#7201a8"
            ],
            [
             0.3333333333333333,
             "#9c179e"
            ],
            [
             0.4444444444444444,
             "#bd3786"
            ],
            [
             0.5555555555555556,
             "#d8576b"
            ],
            [
             0.6666666666666666,
             "#ed7953"
            ],
            [
             0.7777777777777778,
             "#fb9f3a"
            ],
            [
             0.8888888888888888,
             "#fdca26"
            ],
            [
             1,
             "#f0f921"
            ]
           ]
          },
          "colorway": [
           "#636efa",
           "#EF553B",
           "#00cc96",
           "#ab63fa",
           "#FFA15A",
           "#19d3f3",
           "#FF6692",
           "#B6E880",
           "#FF97FF",
           "#FECB52"
          ],
          "font": {
           "color": "#2a3f5f"
          },
          "geo": {
           "bgcolor": "white",
           "lakecolor": "white",
           "landcolor": "#E5ECF6",
           "showlakes": true,
           "showland": true,
           "subunitcolor": "white"
          },
          "hoverlabel": {
           "align": "left"
          },
          "hovermode": "closest",
          "mapbox": {
           "style": "light"
          },
          "paper_bgcolor": "white",
          "plot_bgcolor": "#E5ECF6",
          "polar": {
           "angularaxis": {
            "gridcolor": "white",
            "linecolor": "white",
            "ticks": ""
           },
           "bgcolor": "#E5ECF6",
           "radialaxis": {
            "gridcolor": "white",
            "linecolor": "white",
            "ticks": ""
           }
          },
          "scene": {
           "xaxis": {
            "backgroundcolor": "#E5ECF6",
            "gridcolor": "white",
            "gridwidth": 2,
            "linecolor": "white",
            "showbackground": true,
            "ticks": "",
            "zerolinecolor": "white"
           },
           "yaxis": {
            "backgroundcolor": "#E5ECF6",
            "gridcolor": "white",
            "gridwidth": 2,
            "linecolor": "white",
            "showbackground": true,
            "ticks": "",
            "zerolinecolor": "white"
           },
           "zaxis": {
            "backgroundcolor": "#E5ECF6",
            "gridcolor": "white",
            "gridwidth": 2,
            "linecolor": "white",
            "showbackground": true,
            "ticks": "",
            "zerolinecolor": "white"
           }
          },
          "shapedefaults": {
           "line": {
            "color": "#2a3f5f"
           }
          },
          "ternary": {
           "aaxis": {
            "gridcolor": "white",
            "linecolor": "white",
            "ticks": ""
           },
           "baxis": {
            "gridcolor": "white",
            "linecolor": "white",
            "ticks": ""
           },
           "bgcolor": "#E5ECF6",
           "caxis": {
            "gridcolor": "white",
            "linecolor": "white",
            "ticks": ""
           }
          },
          "title": {
           "x": 0.05
          },
          "xaxis": {
           "automargin": true,
           "gridcolor": "white",
           "linecolor": "white",
           "ticks": "",
           "title": {
            "standoff": 15
           },
           "zerolinecolor": "white",
           "zerolinewidth": 2
          },
          "yaxis": {
           "automargin": true,
           "gridcolor": "white",
           "linecolor": "white",
           "ticks": "",
           "title": {
            "standoff": 15
           },
           "zerolinecolor": "white",
           "zerolinewidth": 2
          }
         }
        },
        "title": {
         "text": "📊 Download Success Analysis",
         "x": 0.5
        },
        "xaxis": {
         "anchor": "y",
         "domain": [
          0,
          0.45
         ]
        },
        "xaxis2": {
         "anchor": "y2",
         "domain": [
          0.55,
          1
         ]
        },
        "xaxis3": {
         "anchor": "y3",
         "domain": [
          0,
          0.45
         ]
        },
        "xaxis4": {
         "anchor": "y4",
         "domain": [
          0.55,
          1
         ]
        },
        "yaxis": {
         "anchor": "x",
         "domain": [
          0.625,
          1
         ]
        },
        "yaxis2": {
         "anchor": "x2",
         "domain": [
          0.625,
          1
         ]
        },
        "yaxis3": {
         "anchor": "x3",
         "domain": [
          0,
          0.375
         ]
        },
        "yaxis4": {
         "anchor": "x4",
         "domain": [
          0,
          0.375
         ]
        }
       }
      }
     },
     "metadata": {},
     "output_type": "display_data"
    }
   ],
   "source": [
    "# Success rate analysis\n",
    "plot_success_rates(summary_df, use_plotly=True)"
   ]
  },
  {
   "cell_type": "code",
   "execution_count": 5,
   "metadata": {},
   "outputs": [
    {
     "name": "stdout",
     "output_type": "stream",
     "text": [
      "⚠️ Found 0 classes with potential issues:\n",
      "✅ No significant issues found!\n"
     ]
    }
   ],
   "source": [
    "# Identify problematic classes\n",
    "def analyze_problem_classes(summary_df, image_df):\n",
    "    \"\"\"\n",
    "    Identify classes with potential issues\n",
    "    \"\"\"\n",
    "    problems = []\n",
    "    \n",
    "    for _, row in summary_df.iterrows():\n",
    "        class_name = row['class_name']\n",
    "        category = row['category']\n",
    "        \n",
    "        issues = []\n",
    "        \n",
    "        # Low success rate\n",
    "        if row['download_success_rate'] < 80:\n",
    "            issues.append(f\"Low success rate ({row['download_success_rate']:.1f}%)\")\n",
    "        \n",
    "        # Very few images\n",
    "        if row['downloaded_images'] < 10:\n",
    "            issues.append(f\"Few images ({row['downloaded_images']})\")\n",
    "        \n",
    "        # No downloads at all\n",
    "        if row['downloaded_images'] == 0:\n",
    "            issues.append(\"No successful downloads\")\n",
    "        \n",
    "        # Large gap between requested and found\n",
    "        if row['urls_requested'] > 0 and row['urls_found'] < row['urls_requested'] * 0.5:\n",
    "            issues.append(f\"Poor URL discovery ({row['urls_found']}/{row['urls_requested']})\")\n",
    "        \n",
    "        if issues:\n",
    "            problems.append({\n",
    "                'class_name': class_name,\n",
    "                'category': category,\n",
    "                'issues': ', '.join(issues),\n",
    "                'downloaded_images': row['downloaded_images'],\n",
    "                'success_rate': row['download_success_rate'],\n",
    "                'urls_found': row['urls_found'],\n",
    "                'urls_requested': row['urls_requested']\n",
    "            })\n",
    "    \n",
    "    return pd.DataFrame(problems)\n",
    "\n",
    "problem_classes = analyze_problem_classes(summary_df, image_df)\n",
    "\n",
    "print(f\"⚠️ Found {len(problem_classes)} classes with potential issues:\")\n",
    "if len(problem_classes) > 0:\n",
    "    display(problem_classes.sort_values('success_rate'))\n",
    "else:\n",
    "    print(\"✅ No significant issues found!\")"
   ]
  },
  {
   "cell_type": "code",
   "execution_count": 6,
   "metadata": {},
   "outputs": [
    {
     "data": {
      "application/vnd.plotly.v1+json": {
       "config": {
        "plotlyServerURL": "https://plot.ly"
       },
       "data": [
        {
         "error_y": {
          "array": {
           "bdata": "ckgu9Lw3SkDPJA7hNjblP6aQdJx5GjBA",
           "dtype": "f8"
          },
          "type": "data"
         },
         "name": "Avg Images",
         "text": [
          "474.9",
          "499.6",
          "496.5"
         ],
         "textposition": "auto",
         "type": "bar",
         "x": [
          "Glow",
          "Go",
          "Grow"
         ],
         "xaxis": "x",
         "y": {
          "bdata": "l5aWlpaufUDZZJNNNjl/QAgffPDBB39A",
          "dtype": "f8"
         },
         "yaxis": "y"
        },
        {
         "boxpoints": "outliers",
         "name": "Glow",
         "type": "box",
         "xaxis": "x2",
         "y": {
          "bdata": "MzMzMzPzWEAAAAAAAABZQJqZmZmZ2VhAAAAAAAAAWUAAAAAAAABZQAAAAAAAAFlAZmZmZmbmWED+4xILt+9YQOq+PLYiyFdAeFSz/gx+WEAAAAAAAABZQAAAAAAAAFlAAAAAAAAAWUDDJazyd8hYQDMzMzMz81hAAAAAAAAAWUAAAAAAAABZQAAAAAAAAFlAMzMzMzPzWEAAAAAAAABZQAAAAAAAAFlAMzMzMzPzWEAzMzMzM/NYQOzETuzEzlhAAAAAAAAAWUAAAAAAAABZQDMzMzMz81hAMzMzMzPzWEDNzMzMzMxYQM3MzMzMzFhAMzMzMzOzWEA+3uM93uNYQM3MzMzMzFhAAAAAAADAWEA=",
          "dtype": "f8"
         },
         "yaxis": "y2"
        },
        {
         "boxpoints": "outliers",
         "name": "Go",
         "type": "box",
         "xaxis": "x2",
         "y": {
          "bdata": "AAAAAAAAWUBmZmZmZuZYQDMzMzMz81hAAAAAAAAAWUAzMzMzM/NYQDMzMzMz81hAZmZmZmbmWEAzMzMzM/NYQAAAAAAAAFlAAAAAAAAAWUAzMzMzM/NYQAAAAAAAAFlAAAAAAAAAWUAAAAAAAABZQAAAAAAAAFlAAAAAAAAAWUAAAAAAAABZQAAAAAAAAFlAMzMzMzPzWEAAAAAAAABZQDMzMzMz81hAAAAAAAAAWUAAAAAAAABZQDMzMzMz81hAAAAAAAAAWUAAAAAAAABZQAAAAAAAAFlAZmZmZmbmWEAAAAAAAABZQAAAAAAAAFlAAAAAAAAAWUAAAAAAAABZQAAAAAAAAFlA",
          "dtype": "f8"
         },
         "yaxis": "y2"
        },
        {
         "boxpoints": "outliers",
         "name": "Grow",
         "type": "box",
         "xaxis": "x2",
         "y": {
          "bdata": "MzMzMzPzWEAzMzMzM/NYQGZmZmZm5lhAAAAAAAAAWUAAAAAAAABZQAAAAAAAAFlAMzMzMzPzWEAAAAAAAABZQAAAAAAAAFlAAAAAAADAWEBmZmZmZuZYQGZmZmZm5lhAAAAAAAAAWUAAAAAAAABZQAAAAAAAAFlAlZ0HB6RIV0AAAAAAAABZQAAAAAAAAFlAAAAAAAAAWUAAAAAAAABZQAAAAAAAAFlAAAAAAAAAWUAAAAAAAABZQGZmZmZm5lhAMzMzMzPzWECamZmZmdlYQDMzMzMz81hAMzMzMzPzWEAAAAAAAABZQAAAAAAAAFlAAAAAAAAAWUAzMzMzM/NYQAAAAAAAAFlA",
          "dtype": "f8"
         },
         "yaxis": "y2"
        },
        {
         "name": "Total Images",
         "text": [
          "16,147",
          "16,486",
          "16,384"
         ],
         "textposition": "auto",
         "type": "bar",
         "x": [
          "Glow",
          "Go",
          "Grow"
         ],
         "xaxis": "x3",
         "y": {
          "bdata": "Ez9mQABA",
          "dtype": "i2"
         },
         "yaxis": "y3"
        },
        {
         "name": "Performance Score",
         "text": [
          "97.3",
          "100.0",
          "99.5"
         ],
         "textposition": "auto",
         "type": "bar",
         "x": [
          "Glow",
          "Go",
          "Grow"
         ],
         "xaxis": "x4",
         "y": {
          "bdata": "ml00srxSWEC9jtTrSP1YQMw1HnUV4VhA",
          "dtype": "f8"
         },
         "yaxis": "y4"
        }
       ],
       "layout": {
        "annotations": [
         {
          "font": {
           "size": 16
          },
          "showarrow": false,
          "text": "Average Images per Class by Category",
          "x": 0.225,
          "xanchor": "center",
          "xref": "paper",
          "y": 1,
          "yanchor": "bottom",
          "yref": "paper"
         },
         {
          "font": {
           "size": 16
          },
          "showarrow": false,
          "text": "Success Rate Distribution by Category",
          "x": 0.775,
          "xanchor": "center",
          "xref": "paper",
          "y": 1,
          "yanchor": "bottom",
          "yref": "paper"
         },
         {
          "font": {
           "size": 16
          },
          "showarrow": false,
          "text": "Total Images by Category",
          "x": 0.225,
          "xanchor": "center",
          "xref": "paper",
          "y": 0.375,
          "yanchor": "bottom",
          "yref": "paper"
         },
         {
          "font": {
           "size": 16
          },
          "showarrow": false,
          "text": "Performance Score by Category",
          "x": 0.775,
          "xanchor": "center",
          "xref": "paper",
          "y": 0.375,
          "yanchor": "bottom",
          "yref": "paper"
         }
        ],
        "height": 800,
        "showlegend": false,
        "template": {
         "data": {
          "bar": [
           {
            "error_x": {
             "color": "#2a3f5f"
            },
            "error_y": {
             "color": "#2a3f5f"
            },
            "marker": {
             "line": {
              "color": "#E5ECF6",
              "width": 0.5
             },
             "pattern": {
              "fillmode": "overlay",
              "size": 10,
              "solidity": 0.2
             }
            },
            "type": "bar"
           }
          ],
          "barpolar": [
           {
            "marker": {
             "line": {
              "color": "#E5ECF6",
              "width": 0.5
             },
             "pattern": {
              "fillmode": "overlay",
              "size": 10,
              "solidity": 0.2
             }
            },
            "type": "barpolar"
           }
          ],
          "carpet": [
           {
            "aaxis": {
             "endlinecolor": "#2a3f5f",
             "gridcolor": "white",
             "linecolor": "white",
             "minorgridcolor": "white",
             "startlinecolor": "#2a3f5f"
            },
            "baxis": {
             "endlinecolor": "#2a3f5f",
             "gridcolor": "white",
             "linecolor": "white",
             "minorgridcolor": "white",
             "startlinecolor": "#2a3f5f"
            },
            "type": "carpet"
           }
          ],
          "choropleth": [
           {
            "colorbar": {
             "outlinewidth": 0,
             "ticks": ""
            },
            "type": "choropleth"
           }
          ],
          "contour": [
           {
            "colorbar": {
             "outlinewidth": 0,
             "ticks": ""
            },
            "colorscale": [
             [
              0,
              "#0d0887"
             ],
             [
              0.1111111111111111,
              "#46039f"
             ],
             [
              0.2222222222222222,
              "#7201a8"
             ],
             [
              0.3333333333333333,
              "#9c179e"
             ],
             [
              0.4444444444444444,
              "#bd3786"
             ],
             [
              0.5555555555555556,
              "#d8576b"
             ],
             [
              0.6666666666666666,
              "#ed7953"
             ],
             [
              0.7777777777777778,
              "#fb9f3a"
             ],
             [
              0.8888888888888888,
              "#fdca26"
             ],
             [
              1,
              "#f0f921"
             ]
            ],
            "type": "contour"
           }
          ],
          "contourcarpet": [
           {
            "colorbar": {
             "outlinewidth": 0,
             "ticks": ""
            },
            "type": "contourcarpet"
           }
          ],
          "heatmap": [
           {
            "colorbar": {
             "outlinewidth": 0,
             "ticks": ""
            },
            "colorscale": [
             [
              0,
              "#0d0887"
             ],
             [
              0.1111111111111111,
              "#46039f"
             ],
             [
              0.2222222222222222,
              "#7201a8"
             ],
             [
              0.3333333333333333,
              "#9c179e"
             ],
             [
              0.4444444444444444,
              "#bd3786"
             ],
             [
              0.5555555555555556,
              "#d8576b"
             ],
             [
              0.6666666666666666,
              "#ed7953"
             ],
             [
              0.7777777777777778,
              "#fb9f3a"
             ],
             [
              0.8888888888888888,
              "#fdca26"
             ],
             [
              1,
              "#f0f921"
             ]
            ],
            "type": "heatmap"
           }
          ],
          "histogram": [
           {
            "marker": {
             "pattern": {
              "fillmode": "overlay",
              "size": 10,
              "solidity": 0.2
             }
            },
            "type": "histogram"
           }
          ],
          "histogram2d": [
           {
            "colorbar": {
             "outlinewidth": 0,
             "ticks": ""
            },
            "colorscale": [
             [
              0,
              "#0d0887"
             ],
             [
              0.1111111111111111,
              "#46039f"
             ],
             [
              0.2222222222222222,
              "#7201a8"
             ],
             [
              0.3333333333333333,
              "#9c179e"
             ],
             [
              0.4444444444444444,
              "#bd3786"
             ],
             [
              0.5555555555555556,
              "#d8576b"
             ],
             [
              0.6666666666666666,
              "#ed7953"
             ],
             [
              0.7777777777777778,
              "#fb9f3a"
             ],
             [
              0.8888888888888888,
              "#fdca26"
             ],
             [
              1,
              "#f0f921"
             ]
            ],
            "type": "histogram2d"
           }
          ],
          "histogram2dcontour": [
           {
            "colorbar": {
             "outlinewidth": 0,
             "ticks": ""
            },
            "colorscale": [
             [
              0,
              "#0d0887"
             ],
             [
              0.1111111111111111,
              "#46039f"
             ],
             [
              0.2222222222222222,
              "#7201a8"
             ],
             [
              0.3333333333333333,
              "#9c179e"
             ],
             [
              0.4444444444444444,
              "#bd3786"
             ],
             [
              0.5555555555555556,
              "#d8576b"
             ],
             [
              0.6666666666666666,
              "#ed7953"
             ],
             [
              0.7777777777777778,
              "#fb9f3a"
             ],
             [
              0.8888888888888888,
              "#fdca26"
             ],
             [
              1,
              "#f0f921"
             ]
            ],
            "type": "histogram2dcontour"
           }
          ],
          "mesh3d": [
           {
            "colorbar": {
             "outlinewidth": 0,
             "ticks": ""
            },
            "type": "mesh3d"
           }
          ],
          "parcoords": [
           {
            "line": {
             "colorbar": {
              "outlinewidth": 0,
              "ticks": ""
             }
            },
            "type": "parcoords"
           }
          ],
          "pie": [
           {
            "automargin": true,
            "type": "pie"
           }
          ],
          "scatter": [
           {
            "fillpattern": {
             "fillmode": "overlay",
             "size": 10,
             "solidity": 0.2
            },
            "type": "scatter"
           }
          ],
          "scatter3d": [
           {
            "line": {
             "colorbar": {
              "outlinewidth": 0,
              "ticks": ""
             }
            },
            "marker": {
             "colorbar": {
              "outlinewidth": 0,
              "ticks": ""
             }
            },
            "type": "scatter3d"
           }
          ],
          "scattercarpet": [
           {
            "marker": {
             "colorbar": {
              "outlinewidth": 0,
              "ticks": ""
             }
            },
            "type": "scattercarpet"
           }
          ],
          "scattergeo": [
           {
            "marker": {
             "colorbar": {
              "outlinewidth": 0,
              "ticks": ""
             }
            },
            "type": "scattergeo"
           }
          ],
          "scattergl": [
           {
            "marker": {
             "colorbar": {
              "outlinewidth": 0,
              "ticks": ""
             }
            },
            "type": "scattergl"
           }
          ],
          "scattermap": [
           {
            "marker": {
             "colorbar": {
              "outlinewidth": 0,
              "ticks": ""
             }
            },
            "type": "scattermap"
           }
          ],
          "scattermapbox": [
           {
            "marker": {
             "colorbar": {
              "outlinewidth": 0,
              "ticks": ""
             }
            },
            "type": "scattermapbox"
           }
          ],
          "scatterpolar": [
           {
            "marker": {
             "colorbar": {
              "outlinewidth": 0,
              "ticks": ""
             }
            },
            "type": "scatterpolar"
           }
          ],
          "scatterpolargl": [
           {
            "marker": {
             "colorbar": {
              "outlinewidth": 0,
              "ticks": ""
             }
            },
            "type": "scatterpolargl"
           }
          ],
          "scatterternary": [
           {
            "marker": {
             "colorbar": {
              "outlinewidth": 0,
              "ticks": ""
             }
            },
            "type": "scatterternary"
           }
          ],
          "surface": [
           {
            "colorbar": {
             "outlinewidth": 0,
             "ticks": ""
            },
            "colorscale": [
             [
              0,
              "#0d0887"
             ],
             [
              0.1111111111111111,
              "#46039f"
             ],
             [
              0.2222222222222222,
              "#7201a8"
             ],
             [
              0.3333333333333333,
              "#9c179e"
             ],
             [
              0.4444444444444444,
              "#bd3786"
             ],
             [
              0.5555555555555556,
              "#d8576b"
             ],
             [
              0.6666666666666666,
              "#ed7953"
             ],
             [
              0.7777777777777778,
              "#fb9f3a"
             ],
             [
              0.8888888888888888,
              "#fdca26"
             ],
             [
              1,
              "#f0f921"
             ]
            ],
            "type": "surface"
           }
          ],
          "table": [
           {
            "cells": {
             "fill": {
              "color": "#EBF0F8"
             },
             "line": {
              "color": "white"
             }
            },
            "header": {
             "fill": {
              "color": "#C8D4E3"
             },
             "line": {
              "color": "white"
             }
            },
            "type": "table"
           }
          ]
         },
         "layout": {
          "annotationdefaults": {
           "arrowcolor": "#2a3f5f",
           "arrowhead": 0,
           "arrowwidth": 1
          },
          "autotypenumbers": "strict",
          "coloraxis": {
           "colorbar": {
            "outlinewidth": 0,
            "ticks": ""
           }
          },
          "colorscale": {
           "diverging": [
            [
             0,
             "#8e0152"
            ],
            [
             0.1,
             "#c51b7d"
            ],
            [
             0.2,
             "#de77ae"
            ],
            [
             0.3,
             "#f1b6da"
            ],
            [
             0.4,
             "#fde0ef"
            ],
            [
             0.5,
             "#f7f7f7"
            ],
            [
             0.6,
             "#e6f5d0"
            ],
            [
             0.7,
             "#b8e186"
            ],
            [
             0.8,
             "#7fbc41"
            ],
            [
             0.9,
             "#4d9221"
            ],
            [
             1,
             "#276419"
            ]
           ],
           "sequential": [
            [
             0,
             "#0d0887"
            ],
            [
             0.1111111111111111,
             "#46039f"
            ],
            [
             0.2222222222222222,
             "#7201a8"
            ],
            [
             0.3333333333333333,
             "#9c179e"
            ],
            [
             0.4444444444444444,
             "#bd3786"
            ],
            [
             0.5555555555555556,
             "#d8576b"
            ],
            [
             0.6666666666666666,
             "#ed7953"
            ],
            [
             0.7777777777777778,
             "#fb9f3a"
            ],
            [
             0.8888888888888888,
             "#fdca26"
            ],
            [
             1,
             "#f0f921"
            ]
           ],
           "sequentialminus": [
            [
             0,
             "#0d0887"
            ],
            [
             0.1111111111111111,
             "#46039f"
            ],
            [
             0.2222222222222222,
             "#7201a8"
            ],
            [
             0.3333333333333333,
             "#9c179e"
            ],
            [
             0.4444444444444444,
             "#bd3786"
            ],
            [
             0.5555555555555556,
             "#d8576b"
            ],
            [
             0.6666666666666666,
             "#ed7953"
            ],
            [
             0.7777777777777778,
             "#fb9f3a"
            ],
            [
             0.8888888888888888,
             "#fdca26"
            ],
            [
             1,
             "#f0f921"
            ]
           ]
          },
          "colorway": [
           "#636efa",
           "#EF553B",
           "#00cc96",
           "#ab63fa",
           "#FFA15A",
           "#19d3f3",
           "#FF6692",
           "#B6E880",
           "#FF97FF",
           "#FECB52"
          ],
          "font": {
           "color": "#2a3f5f"
          },
          "geo": {
           "bgcolor": "white",
           "lakecolor": "white",
           "landcolor": "#E5ECF6",
           "showlakes": true,
           "showland": true,
           "subunitcolor": "white"
          },
          "hoverlabel": {
           "align": "left"
          },
          "hovermode": "closest",
          "mapbox": {
           "style": "light"
          },
          "paper_bgcolor": "white",
          "plot_bgcolor": "#E5ECF6",
          "polar": {
           "angularaxis": {
            "gridcolor": "white",
            "linecolor": "white",
            "ticks": ""
           },
           "bgcolor": "#E5ECF6",
           "radialaxis": {
            "gridcolor": "white",
            "linecolor": "white",
            "ticks": ""
           }
          },
          "scene": {
           "xaxis": {
            "backgroundcolor": "#E5ECF6",
            "gridcolor": "white",
            "gridwidth": 2,
            "linecolor": "white",
            "showbackground": true,
            "ticks": "",
            "zerolinecolor": "white"
           },
           "yaxis": {
            "backgroundcolor": "#E5ECF6",
            "gridcolor": "white",
            "gridwidth": 2,
            "linecolor": "white",
            "showbackground": true,
            "ticks": "",
            "zerolinecolor": "white"
           },
           "zaxis": {
            "backgroundcolor": "#E5ECF6",
            "gridcolor": "white",
            "gridwidth": 2,
            "linecolor": "white",
            "showbackground": true,
            "ticks": "",
            "zerolinecolor": "white"
           }
          },
          "shapedefaults": {
           "line": {
            "color": "#2a3f5f"
           }
          },
          "ternary": {
           "aaxis": {
            "gridcolor": "white",
            "linecolor": "white",
            "ticks": ""
           },
           "baxis": {
            "gridcolor": "white",
            "linecolor": "white",
            "ticks": ""
           },
           "bgcolor": "#E5ECF6",
           "caxis": {
            "gridcolor": "white",
            "linecolor": "white",
            "ticks": ""
           }
          },
          "title": {
           "x": 0.05
          },
          "xaxis": {
           "automargin": true,
           "gridcolor": "white",
           "linecolor": "white",
           "ticks": "",
           "title": {
            "standoff": 15
           },
           "zerolinecolor": "white",
           "zerolinewidth": 2
          },
          "yaxis": {
           "automargin": true,
           "gridcolor": "white",
           "linecolor": "white",
           "ticks": "",
           "title": {
            "standoff": 15
           },
           "zerolinecolor": "white",
           "zerolinewidth": 2
          }
         }
        },
        "title": {
         "text": "📊 Category Performance Analysis",
         "x": 0.5
        },
        "xaxis": {
         "anchor": "y",
         "domain": [
          0,
          0.45
         ]
        },
        "xaxis2": {
         "anchor": "y2",
         "domain": [
          0.55,
          1
         ]
        },
        "xaxis3": {
         "anchor": "y3",
         "domain": [
          0,
          0.45
         ]
        },
        "xaxis4": {
         "anchor": "y4",
         "domain": [
          0.55,
          1
         ]
        },
        "yaxis": {
         "anchor": "x",
         "domain": [
          0.625,
          1
         ]
        },
        "yaxis2": {
         "anchor": "x2",
         "domain": [
          0.625,
          1
         ]
        },
        "yaxis3": {
         "anchor": "x3",
         "domain": [
          0,
          0.375
         ]
        },
        "yaxis4": {
         "anchor": "x4",
         "domain": [
          0,
          0.375
         ]
        }
       }
      }
     },
     "metadata": {},
     "output_type": "display_data"
    }
   ],
   "source": [
    "# Performance comparison by category\n",
    "def plot_category_performance():\n",
    "    fig = make_subplots(\n",
    "        rows=2, cols=2,\n",
    "        subplot_titles=(\n",
    "            'Average Images per Class by Category',\n",
    "            'Success Rate Distribution by Category',\n",
    "            'Total Images by Category',\n",
    "            'Performance Score by Category'\n",
    "        )\n",
    "    )\n",
    "    \n",
    "    # Average images per class\n",
    "    avg_by_category = summary_df.groupby('category')['downloaded_images'].agg(['mean', 'std']).reset_index()\n",
    "    \n",
    "    fig.add_trace(\n",
    "        go.Bar(\n",
    "            x=avg_by_category['category'],\n",
    "            y=avg_by_category['mean'],\n",
    "            error_y=dict(type='data', array=avg_by_category['std']),\n",
    "            text=[f\"{v:.1f}\" for v in avg_by_category['mean']],\n",
    "            textposition='auto',\n",
    "            name=\"Avg Images\"\n",
    "        ),\n",
    "        row=1, col=1\n",
    "    )\n",
    "    \n",
    "    # Success rate box plots by category\n",
    "    for category in summary_df['category'].unique():\n",
    "        cat_data = summary_df[summary_df['category'] == category]\n",
    "        fig.add_trace(\n",
    "            go.Box(\n",
    "                y=cat_data['download_success_rate'],\n",
    "                name=category,\n",
    "                boxpoints='outliers'\n",
    "            ),\n",
    "            row=1, col=2\n",
    "        )\n",
    "    \n",
    "    # Total images by category\n",
    "    total_by_category = summary_df.groupby('category')['downloaded_images'].sum()\n",
    "    \n",
    "    fig.add_trace(\n",
    "        go.Bar(\n",
    "            x=total_by_category.index,\n",
    "            y=total_by_category.values,\n",
    "            text=[f\"{v:,}\" for v in total_by_category.values],\n",
    "            textposition='auto',\n",
    "            name=\"Total Images\"\n",
    "        ),\n",
    "        row=2, col=1\n",
    "    )\n",
    "    \n",
    "    # Performance score (combination of success rate and image count)\n",
    "    performance_by_category = summary_df.groupby('category').agg({\n",
    "        'download_success_rate': 'mean',\n",
    "        'downloaded_images': 'mean'\n",
    "    })\n",
    "    \n",
    "    # Normalize scores to 0-100 scale\n",
    "    max_images = performance_by_category['downloaded_images'].max()\n",
    "    performance_by_category['image_score'] = (performance_by_category['downloaded_images'] / max_images) * 100\n",
    "    performance_by_category['combined_score'] = (performance_by_category['download_success_rate'] + performance_by_category['image_score']) / 2\n",
    "    \n",
    "    fig.add_trace(\n",
    "        go.Bar(\n",
    "            x=performance_by_category.index,\n",
    "            y=performance_by_category['combined_score'],\n",
    "            text=[f\"{v:.1f}\" for v in performance_by_category['combined_score']],\n",
    "            textposition='auto',\n",
    "            name=\"Performance Score\"\n",
    "        ),\n",
    "        row=2, col=2\n",
    "    )\n",
    "    \n",
    "    fig.update_layout(\n",
    "        title_text=\"📊 Category Performance Analysis\",\n",
    "        title_x=0.5,\n",
    "        height=800,\n",
    "        showlegend=False\n",
    "    )\n",
    "    \n",
    "    fig.show()\n",
    "\n",
    "plot_category_performance()"
   ]
  },
  {
   "cell_type": "code",
   "execution_count": 7,
   "metadata": {},
   "outputs": [
    {
     "name": "stdout",
     "output_type": "stream",
     "text": [
      "🏆 TOP 10 PERFORMING CLASSES:\n",
      "==================================================\n"
     ]
    },
    {
     "data": {
      "text/html": [
       "<div>\n",
       "<style scoped>\n",
       "    .dataframe tbody tr th:only-of-type {\n",
       "        vertical-align: middle;\n",
       "    }\n",
       "\n",
       "    .dataframe tbody tr th {\n",
       "        vertical-align: top;\n",
       "    }\n",
       "\n",
       "    .dataframe thead th {\n",
       "        text-align: right;\n",
       "    }\n",
       "</style>\n",
       "<table border=\"1\" class=\"dataframe\">\n",
       "  <thead>\n",
       "    <tr style=\"text-align: right;\">\n",
       "      <th></th>\n",
       "      <th>class_name</th>\n",
       "      <th>category</th>\n",
       "      <th>downloaded_images</th>\n",
       "      <th>download_success_rate</th>\n",
       "      <th>performance_score</th>\n",
       "    </tr>\n",
       "  </thead>\n",
       "  <tbody>\n",
       "    <tr>\n",
       "      <th>1</th>\n",
       "      <td>Adobong Sitaw</td>\n",
       "      <td>Glow</td>\n",
       "      <td>500</td>\n",
       "      <td>100.0</td>\n",
       "      <td>100.0</td>\n",
       "    </tr>\n",
       "    <tr>\n",
       "      <th>3</th>\n",
       "      <td>Ampalaya con Itlog</td>\n",
       "      <td>Glow</td>\n",
       "      <td>500</td>\n",
       "      <td>100.0</td>\n",
       "      <td>100.0</td>\n",
       "    </tr>\n",
       "    <tr>\n",
       "      <th>4</th>\n",
       "      <td>Bulanglang</td>\n",
       "      <td>Glow</td>\n",
       "      <td>500</td>\n",
       "      <td>100.0</td>\n",
       "      <td>100.0</td>\n",
       "    </tr>\n",
       "    <tr>\n",
       "      <th>5</th>\n",
       "      <td>Chopsuey</td>\n",
       "      <td>Glow</td>\n",
       "      <td>500</td>\n",
       "      <td>100.0</td>\n",
       "      <td>100.0</td>\n",
       "    </tr>\n",
       "    <tr>\n",
       "      <th>10</th>\n",
       "      <td>Ginataang Kalabasa at Sitaw</td>\n",
       "      <td>Glow</td>\n",
       "      <td>500</td>\n",
       "      <td>100.0</td>\n",
       "      <td>100.0</td>\n",
       "    </tr>\n",
       "    <tr>\n",
       "      <th>12</th>\n",
       "      <td>Ginataang Puso ng Saging</td>\n",
       "      <td>Glow</td>\n",
       "      <td>500</td>\n",
       "      <td>100.0</td>\n",
       "      <td>100.0</td>\n",
       "    </tr>\n",
       "    <tr>\n",
       "      <th>15</th>\n",
       "      <td>Ginisang Pechay</td>\n",
       "      <td>Glow</td>\n",
       "      <td>500</td>\n",
       "      <td>100.0</td>\n",
       "      <td>100.0</td>\n",
       "    </tr>\n",
       "    <tr>\n",
       "      <th>16</th>\n",
       "      <td>Ginisang Repolyo</td>\n",
       "      <td>Glow</td>\n",
       "      <td>500</td>\n",
       "      <td>100.0</td>\n",
       "      <td>100.0</td>\n",
       "    </tr>\n",
       "    <tr>\n",
       "      <th>19</th>\n",
       "      <td>Gising-Gising</td>\n",
       "      <td>Glow</td>\n",
       "      <td>500</td>\n",
       "      <td>100.0</td>\n",
       "      <td>100.0</td>\n",
       "    </tr>\n",
       "    <tr>\n",
       "      <th>24</th>\n",
       "      <td>Lumpiang Sariwa</td>\n",
       "      <td>Glow</td>\n",
       "      <td>500</td>\n",
       "      <td>100.0</td>\n",
       "      <td>100.0</td>\n",
       "    </tr>\n",
       "  </tbody>\n",
       "</table>\n",
       "</div>"
      ],
      "text/plain": [
       "                     class_name category  downloaded_images  \\\n",
       "1                 Adobong Sitaw     Glow                500   \n",
       "3            Ampalaya con Itlog     Glow                500   \n",
       "4                    Bulanglang     Glow                500   \n",
       "5                      Chopsuey     Glow                500   \n",
       "10  Ginataang Kalabasa at Sitaw     Glow                500   \n",
       "12     Ginataang Puso ng Saging     Glow                500   \n",
       "15              Ginisang Pechay     Glow                500   \n",
       "16             Ginisang Repolyo     Glow                500   \n",
       "19                Gising-Gising     Glow                500   \n",
       "24              Lumpiang Sariwa     Glow                500   \n",
       "\n",
       "    download_success_rate  performance_score  \n",
       "1                   100.0              100.0  \n",
       "3                   100.0              100.0  \n",
       "4                   100.0              100.0  \n",
       "5                   100.0              100.0  \n",
       "10                  100.0              100.0  \n",
       "12                  100.0              100.0  \n",
       "15                  100.0              100.0  \n",
       "16                  100.0              100.0  \n",
       "19                  100.0              100.0  \n",
       "24                  100.0              100.0  "
      ]
     },
     "metadata": {},
     "output_type": "display_data"
    },
    {
     "name": "stdout",
     "output_type": "stream",
     "text": [
      "\n",
      "⚠️ BOTTOM 10 PERFORMING CLASSES:\n",
      "==================================================\n"
     ]
    },
    {
     "data": {
      "text/html": [
       "<div>\n",
       "<style scoped>\n",
       "    .dataframe tbody tr th:only-of-type {\n",
       "        vertical-align: middle;\n",
       "    }\n",
       "\n",
       "    .dataframe tbody tr th {\n",
       "        vertical-align: top;\n",
       "    }\n",
       "\n",
       "    .dataframe thead th {\n",
       "        text-align: right;\n",
       "    }\n",
       "</style>\n",
       "<table border=\"1\" class=\"dataframe\">\n",
       "  <thead>\n",
       "    <tr style=\"text-align: right;\">\n",
       "      <th></th>\n",
       "      <th>class_name</th>\n",
       "      <th>category</th>\n",
       "      <th>downloaded_images</th>\n",
       "      <th>download_success_rate</th>\n",
       "      <th>performance_score</th>\n",
       "    </tr>\n",
       "  </thead>\n",
       "  <tbody>\n",
       "    <tr>\n",
       "      <th>23</th>\n",
       "      <td>Laswa</td>\n",
       "      <td>Glow</td>\n",
       "      <td>258</td>\n",
       "      <td>99.230769</td>\n",
       "      <td>84.941538</td>\n",
       "    </tr>\n",
       "    <tr>\n",
       "      <th>82</th>\n",
       "      <td>Inasal na Pakpak</td>\n",
       "      <td>Grow</td>\n",
       "      <td>407</td>\n",
       "      <td>93.135011</td>\n",
       "      <td>89.614508</td>\n",
       "    </tr>\n",
       "    <tr>\n",
       "      <th>20</th>\n",
       "      <td>Inabraw</td>\n",
       "      <td>Glow</td>\n",
       "      <td>362</td>\n",
       "      <td>100.000000</td>\n",
       "      <td>91.720000</td>\n",
       "    </tr>\n",
       "    <tr>\n",
       "      <th>9</th>\n",
       "      <td>Ensaladang Talong</td>\n",
       "      <td>Glow</td>\n",
       "      <td>386</td>\n",
       "      <td>97.969543</td>\n",
       "      <td>91.738680</td>\n",
       "    </tr>\n",
       "    <tr>\n",
       "      <th>7</th>\n",
       "      <td>Ensaladang Lato</td>\n",
       "      <td>Glow</td>\n",
       "      <td>392</td>\n",
       "      <td>99.745547</td>\n",
       "      <td>93.341883</td>\n",
       "    </tr>\n",
       "    <tr>\n",
       "      <th>8</th>\n",
       "      <td>Ensaladang Mangga</td>\n",
       "      <td>Glow</td>\n",
       "      <td>449</td>\n",
       "      <td>95.127119</td>\n",
       "      <td>93.528983</td>\n",
       "    </tr>\n",
       "    <tr>\n",
       "      <th>13</th>\n",
       "      <td>Ginisang Ampalaya</td>\n",
       "      <td>Glow</td>\n",
       "      <td>457</td>\n",
       "      <td>99.132321</td>\n",
       "      <td>96.812625</td>\n",
       "    </tr>\n",
       "    <tr>\n",
       "      <th>31</th>\n",
       "      <td>Pritong Talong</td>\n",
       "      <td>Glow</td>\n",
       "      <td>453</td>\n",
       "      <td>99.560440</td>\n",
       "      <td>96.872308</td>\n",
       "    </tr>\n",
       "    <tr>\n",
       "      <th>17</th>\n",
       "      <td>Ginisang Sayote</td>\n",
       "      <td>Glow</td>\n",
       "      <td>451</td>\n",
       "      <td>100.000000</td>\n",
       "      <td>97.060000</td>\n",
       "    </tr>\n",
       "    <tr>\n",
       "      <th>11</th>\n",
       "      <td>Ginataang Langka</td>\n",
       "      <td>Glow</td>\n",
       "      <td>474</td>\n",
       "      <td>100.000000</td>\n",
       "      <td>98.440000</td>\n",
       "    </tr>\n",
       "  </tbody>\n",
       "</table>\n",
       "</div>"
      ],
      "text/plain": [
       "           class_name category  downloaded_images  download_success_rate  \\\n",
       "23              Laswa     Glow                258              99.230769   \n",
       "82   Inasal na Pakpak     Grow                407              93.135011   \n",
       "20            Inabraw     Glow                362             100.000000   \n",
       "9   Ensaladang Talong     Glow                386              97.969543   \n",
       "7     Ensaladang Lato     Glow                392              99.745547   \n",
       "8   Ensaladang Mangga     Glow                449              95.127119   \n",
       "13  Ginisang Ampalaya     Glow                457              99.132321   \n",
       "31     Pritong Talong     Glow                453              99.560440   \n",
       "17    Ginisang Sayote     Glow                451             100.000000   \n",
       "11   Ginataang Langka     Glow                474             100.000000   \n",
       "\n",
       "    performance_score  \n",
       "23          84.941538  \n",
       "82          89.614508  \n",
       "20          91.720000  \n",
       "9           91.738680  \n",
       "7           93.341883  \n",
       "8           93.528983  \n",
       "13          96.812625  \n",
       "31          96.872308  \n",
       "17          97.060000  \n",
       "11          98.440000  "
      ]
     },
     "metadata": {},
     "output_type": "display_data"
    }
   ],
   "source": [
    "# Top and bottom performers\n",
    "def show_top_bottom_performers():\n",
    "    # Calculate performance metrics\n",
    "    summary_df['performance_score'] = (\n",
    "        summary_df['download_success_rate'] * 0.7 +  # 70% weight to success rate\n",
    "        (summary_df['downloaded_images'] / summary_df['downloaded_images'].max() * 100) * 0.3  # 30% weight to image count\n",
    "    )\n",
    "    \n",
    "    # Top performers\n",
    "    top_performers = summary_df.nlargest(10, 'performance_score')[[\n",
    "        'class_name', 'category', 'downloaded_images', 'download_success_rate', 'performance_score'\n",
    "    ]]\n",
    "    \n",
    "    # Bottom performers (excluding those with 0 images)\n",
    "    bottom_performers = summary_df[summary_df['downloaded_images'] > 0].nsmallest(10, 'performance_score')[[\n",
    "        'class_name', 'category', 'downloaded_images', 'download_success_rate', 'performance_score'\n",
    "    ]]\n",
    "    \n",
    "    print(\"🏆 TOP 10 PERFORMING CLASSES:\")\n",
    "    print(\"=\" * 50)\n",
    "    display(top_performers)\n",
    "    \n",
    "    print(\"\\n⚠️ BOTTOM 10 PERFORMING CLASSES:\")\n",
    "    print(\"=\" * 50)\n",
    "    display(bottom_performers)\n",
    "\n",
    "show_top_bottom_performers()"
   ]
  },
  {
   "cell_type": "code",
   "execution_count": 8,
   "metadata": {},
   "outputs": [
    {
     "name": "stdout",
     "output_type": "stream",
     "text": [
      "💡 RECOMMENDATIONS FOR IMPROVEMENT:\n",
      "==================================================\n",
      "✅ No major issues found! Your scraping setup is performing well.\n"
     ]
    }
   ],
   "source": [
    "# Class-level recommendations\n",
    "def generate_recommendations(summary_df):\n",
    "    recommendations = []\n",
    "    \n",
    "    # Classes with zero downloads\n",
    "    zero_downloads = summary_df[summary_df['downloaded_images'] == 0]\n",
    "    if len(zero_downloads) > 0:\n",
    "        recommendations.append({\n",
    "            'priority': 'HIGH',\n",
    "            'issue': 'Classes with zero downloads',\n",
    "            'count': len(zero_downloads),\n",
    "            'action': 'Review search terms and URL fetching for these classes',\n",
    "            'classes': zero_downloads['class_name'].tolist()[:5]  # Show first 5\n",
    "        })\n",
    "    \n",
    "    # Low success rate classes\n",
    "    low_success = summary_df[(summary_df['download_success_rate'] < 70) & (summary_df['downloaded_images'] > 0)]\n",
    "    if len(low_success) > 0:\n",
    "        recommendations.append({\n",
    "            'priority': 'MEDIUM',\n",
    "            'issue': 'Classes with low success rates (<70%)',\n",
    "            'count': len(low_success),\n",
    "            'action': 'Check URL quality and download error patterns',\n",
    "            'classes': low_success['class_name'].tolist()[:5]\n",
    "        })\n",
    "    \n",
    "    # Classes with very few images\n",
    "    few_images = summary_df[(summary_df['downloaded_images'] < 10) & (summary_df['downloaded_images'] > 0)]\n",
    "    if len(few_images) > 0:\n",
    "        recommendations.append({\n",
    "            'priority': 'LOW',\n",
    "            'issue': 'Classes with very few images (<10)',\n",
    "            'count': len(few_images),\n",
    "            'action': 'Consider increasing search parameters or adding more search terms',\n",
    "            'classes': few_images['class_name'].tolist()[:5]\n",
    "        })\n",
    "    \n",
    "    # Poor URL discovery\n",
    "    poor_discovery = summary_df[\n",
    "        (summary_df['urls_requested'] > 0) & \n",
    "        (summary_df['urls_found'] < summary_df['urls_requested'] * 0.5)\n",
    "    ]\n",
    "    if len(poor_discovery) > 0:\n",
    "        recommendations.append({\n",
    "            'priority': 'MEDIUM',\n",
    "            'issue': 'Classes with poor URL discovery',\n",
    "            'count': len(poor_discovery),\n",
    "            'action': 'Review search terms and Google search parameters',\n",
    "            'classes': poor_discovery['class_name'].tolist()[:5]\n",
    "        })\n",
    "    \n",
    "    print(\"💡 RECOMMENDATIONS FOR IMPROVEMENT:\")\n",
    "    print(\"=\" * 50)\n",
    "    \n",
    "    if not recommendations:\n",
    "        print(\"✅ No major issues found! Your scraping setup is performing well.\")\n",
    "    else:\n",
    "        for i, rec in enumerate(recommendations, 1):\n",
    "            print(f\"\\n{i}. [{rec['priority']}] {rec['issue']}\")\n",
    "            print(f\"   Count: {rec['count']} classes\")\n",
    "            print(f\"   Action: {rec['action']}\")\n",
    "            print(f\"   Examples: {', '.join(rec['classes'])}\")\n",
    "            if len(rec['classes']) == 5 and rec['count'] > 5:\n",
    "                print(f\"   ... and {rec['count'] - 5} more\")\n",
    "\n",
    "generate_recommendations(summary_df)"
   ]
  },
  {
   "cell_type": "markdown",
   "metadata": {},
   "source": [
    "## Summary\n",
    "\n",
    "This analysis provides insights into:\n",
    "\n",
    "### Class Performance Metrics\n",
    "- **Success Rates**: How well each class performed in terms of successful downloads\n",
    "- **Image Counts**: Distribution of images across different classes\n",
    "- **Category Comparison**: Performance differences between Go, Grow, and Glow categories\n",
    "\n",
    "### Identified Issues\n",
    "- **Problem Classes**: Classes with low success rates or other issues\n",
    "- **Recommendations**: Actionable suggestions for improvement\n",
    "- **Priority Levels**: High, medium, and low priority issues to address\n",
    "\n",
    "### Next Steps\n",
    "1. Address high-priority issues first (classes with zero downloads)\n",
    "2. Review search terms for classes with poor URL discovery\n",
    "3. Investigate download errors for classes with low success rates\n",
    "4. Consider adjusting search parameters for classes with few images"
   ]
  }
 ],
 "metadata": {
  "kernelspec": {
   "display_name": "venv (3.12.10)",
   "language": "python",
   "name": "python3"
  },
  "language_info": {
   "codemirror_mode": {
    "name": "ipython",
    "version": 3
   },
   "file_extension": ".py",
   "mimetype": "text/x-python",
   "name": "python",
   "nbconvert_exporter": "python",
   "pygments_lexer": "ipython3",
   "version": "3.12.10"
  }
 },
 "nbformat": 4,
 "nbformat_minor": 4
}
