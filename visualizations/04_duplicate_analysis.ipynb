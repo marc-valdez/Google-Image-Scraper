{
 "cells": [
  {
   "cell_type": "markdown",
   "metadata": {},
   "source": [
    "# Duplicate Analysis\n",
    "\n",
    "This notebook focuses on identifying and analyzing duplicate images:\n",
    "- Inter-class duplicates (same image in different classes)\n",
    "- Intra-class duplicates (same image multiple times in one class)\n",
    "- Storage impact and optimization opportunities\n",
    "- Detailed duplicate reports"
   ]
  },
  {
   "cell_type": "code",
   "execution_count": 1,
   "metadata": {},
   "outputs": [
    {
     "name": "stdout",
     "output_type": "stream",
     "text": [
      "✅ Modules imported successfully\n"
     ]
    }
   ],
   "source": [
    "# Import required modules\n",
    "import sys\n",
    "import os\n",
    "sys.path.append('..')\n",
    "\n",
    "from visualizations.data_loader import (\n",
    "    load_all_metadata,\n",
    "    create_image_details_dataframe,\n",
    "    get_duplicate_analysis\n",
    ")\n",
    "\n",
    "from visualizations.plotters import (\n",
    "    plot_duplicate_analysis\n",
    ")\n",
    "\n",
    "import pandas as pd\n",
    "import numpy as np\n",
    "import plotly.express as px\n",
    "import plotly.graph_objects as go\n",
    "from plotly.subplots import make_subplots\n",
    "\n",
    "print(\"✅ Modules imported successfully\")"
   ]
  },
  {
   "cell_type": "code",
   "execution_count": 2,
   "metadata": {},
   "outputs": [
    {
     "name": "stdout",
     "output_type": "stream",
     "text": [
      "Found 100 metadata files\n",
      "✅ Successfully loaded 100 metadata files\n",
      "📊 Analyzing 49188 total image entries\n",
      "📷 49041 images available for duplicate analysis\n"
     ]
    }
   ],
   "source": [
    "# Load data\n",
    "metadata_list = load_all_metadata()\n",
    "image_df = create_image_details_dataframe(metadata_list)\n",
    "\n",
    "print(f\"📊 Analyzing {len(image_df)} total image entries\")\n",
    "\n",
    "# Filter to downloaded images with hashes\n",
    "downloaded_df = image_df[\n",
    "    (image_df['has_download_data'] == True) & \n",
    "    (image_df['hash'].notna()) & \n",
    "    (image_df['hash'] != '')\n",
    "].copy()\n",
    "\n",
    "print(f\"📷 {len(downloaded_df)} images available for duplicate analysis\")"
   ]
  },
  {
   "cell_type": "code",
   "execution_count": 3,
   "metadata": {},
   "outputs": [
    {
     "name": "stdout",
     "output_type": "stream",
     "text": [
      "🔄 DUPLICATE ANALYSIS RESULTS:\n",
      "========================================\n",
      "Total Images: 49,041\n",
      "Unique Images: 44,701\n",
      "Duplicate Images: 4,340\n",
      "Duplicate Rate: 8.8%\n",
      "Inter-class Duplicates: 3334 unique hashes\n",
      "Intra-class Duplicates: 26 unique hashes\n"
     ]
    }
   ],
   "source": [
    "# Perform duplicate analysis\n",
    "duplicate_stats = get_duplicate_analysis(image_df)\n",
    "\n",
    "print(\"🔄 DUPLICATE ANALYSIS RESULTS:\")\n",
    "print(\"=\" * 40)\n",
    "print(f\"Total Images: {duplicate_stats['total_images']:,}\")\n",
    "print(f\"Unique Images: {duplicate_stats['unique_hashes']:,}\")\n",
    "print(f\"Duplicate Images: {duplicate_stats['duplicate_count']:,}\")\n",
    "print(f\"Duplicate Rate: {duplicate_stats['duplicate_rate']:.1f}%\")\n",
    "print(f\"Inter-class Duplicates: {len(duplicate_stats['inter_class_duplicates'])} unique hashes\")\n",
    "print(f\"Intra-class Duplicates: {len(duplicate_stats['intra_class_duplicates'])} unique hashes\")"
   ]
  },
  {
   "cell_type": "code",
   "execution_count": 4,
   "metadata": {},
   "outputs": [
    {
     "data": {
      "application/vnd.plotly.v1+json": {
       "config": {
        "plotlyServerURL": "https://plot.ly"
       },
       "data": [
        {
         "domain": {
          "x": [
           0,
           0.45
          ],
          "y": [
           0.625,
           1
          ]
         },
         "hole": 0.4,
         "labels": [
          "Unique",
          "Duplicate"
         ],
         "name": "Image Status",
         "type": "pie",
         "values": [
          44701,
          4340
         ]
        },
        {
         "name": "Duplicate Types",
         "text": [
          "3334",
          "26"
         ],
         "textposition": "auto",
         "type": "bar",
         "x": [
          "Inter-Class",
          "Intra-Class"
         ],
         "xaxis": "x",
         "y": [
          3334,
          26
         ],
         "yaxis": "y"
        },
        {
         "name": "Impact Metrics",
         "text": [
          "49041.0",
          "44701.0",
          "4340.0",
          "8.8"
         ],
         "textposition": "auto",
         "type": "bar",
         "x": [
          "Total Images",
          "Unique Images",
          "Duplicate Images",
          "Duplicate Rate (%)"
         ],
         "xaxis": "x2",
         "y": [
          49041,
          44701,
          4340,
          8.849737974347995
         ],
         "yaxis": "y2"
        },
        {
         "name": "Top Duplicates",
         "text": [
          "28 copies",
          "22 copies",
          "19 copies",
          "18 copies",
          "12 copies",
          "9 copies",
          "9 copies",
          "7 copies",
          "7 copies",
          "7 copies"
         ],
         "textposition": "auto",
         "type": "bar",
         "x": [
          "Hash 1",
          "Hash 2",
          "Hash 3",
          "Hash 4",
          "Hash 5",
          "Hash 6",
          "Hash 7",
          "Hash 8",
          "Hash 9",
          "Hash 10"
         ],
         "xaxis": "x3",
         "y": [
          28,
          22,
          19,
          18,
          12,
          9,
          9,
          7,
          7,
          7
         ],
         "yaxis": "y3"
        }
       ],
       "layout": {
        "annotations": [
         {
          "font": {
           "size": 16
          },
          "showarrow": false,
          "text": "Unique vs Duplicate Images",
          "x": 0.225,
          "xanchor": "center",
          "xref": "paper",
          "y": 1,
          "yanchor": "bottom",
          "yref": "paper"
         },
         {
          "font": {
           "size": 16
          },
          "showarrow": false,
          "text": "Duplicate Type Distribution",
          "x": 0.775,
          "xanchor": "center",
          "xref": "paper",
          "y": 1,
          "yanchor": "bottom",
          "yref": "paper"
         },
         {
          "font": {
           "size": 16
          },
          "showarrow": false,
          "text": "Duplicate Impact",
          "x": 0.225,
          "xanchor": "center",
          "xref": "paper",
          "y": 0.375,
          "yanchor": "bottom",
          "yref": "paper"
         },
         {
          "font": {
           "size": 16
          },
          "showarrow": false,
          "text": "Top Duplicate Hashes",
          "x": 0.775,
          "xanchor": "center",
          "xref": "paper",
          "y": 0.375,
          "yanchor": "bottom",
          "yref": "paper"
         }
        ],
        "height": 800,
        "showlegend": false,
        "template": {
         "data": {
          "bar": [
           {
            "error_x": {
             "color": "#2a3f5f"
            },
            "error_y": {
             "color": "#2a3f5f"
            },
            "marker": {
             "line": {
              "color": "#E5ECF6",
              "width": 0.5
             },
             "pattern": {
              "fillmode": "overlay",
              "size": 10,
              "solidity": 0.2
             }
            },
            "type": "bar"
           }
          ],
          "barpolar": [
           {
            "marker": {
             "line": {
              "color": "#E5ECF6",
              "width": 0.5
             },
             "pattern": {
              "fillmode": "overlay",
              "size": 10,
              "solidity": 0.2
             }
            },
            "type": "barpolar"
           }
          ],
          "carpet": [
           {
            "aaxis": {
             "endlinecolor": "#2a3f5f",
             "gridcolor": "white",
             "linecolor": "white",
             "minorgridcolor": "white",
             "startlinecolor": "#2a3f5f"
            },
            "baxis": {
             "endlinecolor": "#2a3f5f",
             "gridcolor": "white",
             "linecolor": "white",
             "minorgridcolor": "white",
             "startlinecolor": "#2a3f5f"
            },
            "type": "carpet"
           }
          ],
          "choropleth": [
           {
            "colorbar": {
             "outlinewidth": 0,
             "ticks": ""
            },
            "type": "choropleth"
           }
          ],
          "contour": [
           {
            "colorbar": {
             "outlinewidth": 0,
             "ticks": ""
            },
            "colorscale": [
             [
              0,
              "#0d0887"
             ],
             [
              0.1111111111111111,
              "#46039f"
             ],
             [
              0.2222222222222222,
              "#7201a8"
             ],
             [
              0.3333333333333333,
              "#9c179e"
             ],
             [
              0.4444444444444444,
              "#bd3786"
             ],
             [
              0.5555555555555556,
              "#d8576b"
             ],
             [
              0.6666666666666666,
              "#ed7953"
             ],
             [
              0.7777777777777778,
              "#fb9f3a"
             ],
             [
              0.8888888888888888,
              "#fdca26"
             ],
             [
              1,
              "#f0f921"
             ]
            ],
            "type": "contour"
           }
          ],
          "contourcarpet": [
           {
            "colorbar": {
             "outlinewidth": 0,
             "ticks": ""
            },
            "type": "contourcarpet"
           }
          ],
          "heatmap": [
           {
            "colorbar": {
             "outlinewidth": 0,
             "ticks": ""
            },
            "colorscale": [
             [
              0,
              "#0d0887"
             ],
             [
              0.1111111111111111,
              "#46039f"
             ],
             [
              0.2222222222222222,
              "#7201a8"
             ],
             [
              0.3333333333333333,
              "#9c179e"
             ],
             [
              0.4444444444444444,
              "#bd3786"
             ],
             [
              0.5555555555555556,
              "#d8576b"
             ],
             [
              0.6666666666666666,
              "#ed7953"
             ],
             [
              0.7777777777777778,
              "#fb9f3a"
             ],
             [
              0.8888888888888888,
              "#fdca26"
             ],
             [
              1,
              "#f0f921"
             ]
            ],
            "type": "heatmap"
           }
          ],
          "histogram": [
           {
            "marker": {
             "pattern": {
              "fillmode": "overlay",
              "size": 10,
              "solidity": 0.2
             }
            },
            "type": "histogram"
           }
          ],
          "histogram2d": [
           {
            "colorbar": {
             "outlinewidth": 0,
             "ticks": ""
            },
            "colorscale": [
             [
              0,
              "#0d0887"
             ],
             [
              0.1111111111111111,
              "#46039f"
             ],
             [
              0.2222222222222222,
              "#7201a8"
             ],
             [
              0.3333333333333333,
              "#9c179e"
             ],
             [
              0.4444444444444444,
              "#bd3786"
             ],
             [
              0.5555555555555556,
              "#d8576b"
             ],
             [
              0.6666666666666666,
              "#ed7953"
             ],
             [
              0.7777777777777778,
              "#fb9f3a"
             ],
             [
              0.8888888888888888,
              "#fdca26"
             ],
             [
              1,
              "#f0f921"
             ]
            ],
            "type": "histogram2d"
           }
          ],
          "histogram2dcontour": [
           {
            "colorbar": {
             "outlinewidth": 0,
             "ticks": ""
            },
            "colorscale": [
             [
              0,
              "#0d0887"
             ],
             [
              0.1111111111111111,
              "#46039f"
             ],
             [
              0.2222222222222222,
              "#7201a8"
             ],
             [
              0.3333333333333333,
              "#9c179e"
             ],
             [
              0.4444444444444444,
              "#bd3786"
             ],
             [
              0.5555555555555556,
              "#d8576b"
             ],
             [
              0.6666666666666666,
              "#ed7953"
             ],
             [
              0.7777777777777778,
              "#fb9f3a"
             ],
             [
              0.8888888888888888,
              "#fdca26"
             ],
             [
              1,
              "#f0f921"
             ]
            ],
            "type": "histogram2dcontour"
           }
          ],
          "mesh3d": [
           {
            "colorbar": {
             "outlinewidth": 0,
             "ticks": ""
            },
            "type": "mesh3d"
           }
          ],
          "parcoords": [
           {
            "line": {
             "colorbar": {
              "outlinewidth": 0,
              "ticks": ""
             }
            },
            "type": "parcoords"
           }
          ],
          "pie": [
           {
            "automargin": true,
            "type": "pie"
           }
          ],
          "scatter": [
           {
            "fillpattern": {
             "fillmode": "overlay",
             "size": 10,
             "solidity": 0.2
            },
            "type": "scatter"
           }
          ],
          "scatter3d": [
           {
            "line": {
             "colorbar": {
              "outlinewidth": 0,
              "ticks": ""
             }
            },
            "marker": {
             "colorbar": {
              "outlinewidth": 0,
              "ticks": ""
             }
            },
            "type": "scatter3d"
           }
          ],
          "scattercarpet": [
           {
            "marker": {
             "colorbar": {
              "outlinewidth": 0,
              "ticks": ""
             }
            },
            "type": "scattercarpet"
           }
          ],
          "scattergeo": [
           {
            "marker": {
             "colorbar": {
              "outlinewidth": 0,
              "ticks": ""
             }
            },
            "type": "scattergeo"
           }
          ],
          "scattergl": [
           {
            "marker": {
             "colorbar": {
              "outlinewidth": 0,
              "ticks": ""
             }
            },
            "type": "scattergl"
           }
          ],
          "scattermap": [
           {
            "marker": {
             "colorbar": {
              "outlinewidth": 0,
              "ticks": ""
             }
            },
            "type": "scattermap"
           }
          ],
          "scattermapbox": [
           {
            "marker": {
             "colorbar": {
              "outlinewidth": 0,
              "ticks": ""
             }
            },
            "type": "scattermapbox"
           }
          ],
          "scatterpolar": [
           {
            "marker": {
             "colorbar": {
              "outlinewidth": 0,
              "ticks": ""
             }
            },
            "type": "scatterpolar"
           }
          ],
          "scatterpolargl": [
           {
            "marker": {
             "colorbar": {
              "outlinewidth": 0,
              "ticks": ""
             }
            },
            "type": "scatterpolargl"
           }
          ],
          "scatterternary": [
           {
            "marker": {
             "colorbar": {
              "outlinewidth": 0,
              "ticks": ""
             }
            },
            "type": "scatterternary"
           }
          ],
          "surface": [
           {
            "colorbar": {
             "outlinewidth": 0,
             "ticks": ""
            },
            "colorscale": [
             [
              0,
              "#0d0887"
             ],
             [
              0.1111111111111111,
              "#46039f"
             ],
             [
              0.2222222222222222,
              "#7201a8"
             ],
             [
              0.3333333333333333,
              "#9c179e"
             ],
             [
              0.4444444444444444,
              "#bd3786"
             ],
             [
              0.5555555555555556,
              "#d8576b"
             ],
             [
              0.6666666666666666,
              "#ed7953"
             ],
             [
              0.7777777777777778,
              "#fb9f3a"
             ],
             [
              0.8888888888888888,
              "#fdca26"
             ],
             [
              1,
              "#f0f921"
             ]
            ],
            "type": "surface"
           }
          ],
          "table": [
           {
            "cells": {
             "fill": {
              "color": "#EBF0F8"
             },
             "line": {
              "color": "white"
             }
            },
            "header": {
             "fill": {
              "color": "#C8D4E3"
             },
             "line": {
              "color": "white"
             }
            },
            "type": "table"
           }
          ]
         },
         "layout": {
          "annotationdefaults": {
           "arrowcolor": "#2a3f5f",
           "arrowhead": 0,
           "arrowwidth": 1
          },
          "autotypenumbers": "strict",
          "coloraxis": {
           "colorbar": {
            "outlinewidth": 0,
            "ticks": ""
           }
          },
          "colorscale": {
           "diverging": [
            [
             0,
             "#8e0152"
            ],
            [
             0.1,
             "#c51b7d"
            ],
            [
             0.2,
             "#de77ae"
            ],
            [
             0.3,
             "#f1b6da"
            ],
            [
             0.4,
             "#fde0ef"
            ],
            [
             0.5,
             "#f7f7f7"
            ],
            [
             0.6,
             "#e6f5d0"
            ],
            [
             0.7,
             "#b8e186"
            ],
            [
             0.8,
             "#7fbc41"
            ],
            [
             0.9,
             "#4d9221"
            ],
            [
             1,
             "#276419"
            ]
           ],
           "sequential": [
            [
             0,
             "#0d0887"
            ],
            [
             0.1111111111111111,
             "#46039f"
            ],
            [
             0.2222222222222222,
             "#7201a8"
            ],
            [
             0.3333333333333333,
             "#9c179e"
            ],
            [
             0.4444444444444444,
             "#bd3786"
            ],
            [
             0.5555555555555556,
             "#d8576b"
            ],
            [
             0.6666666666666666,
             "#ed7953"
            ],
            [
             0.7777777777777778,
             "#fb9f3a"
            ],
            [
             0.8888888888888888,
             "#fdca26"
            ],
            [
             1,
             "#f0f921"
            ]
           ],
           "sequentialminus": [
            [
             0,
             "#0d0887"
            ],
            [
             0.1111111111111111,
             "#46039f"
            ],
            [
             0.2222222222222222,
             "#7201a8"
            ],
            [
             0.3333333333333333,
             "#9c179e"
            ],
            [
             0.4444444444444444,
             "#bd3786"
            ],
            [
             0.5555555555555556,
             "#d8576b"
            ],
            [
             0.6666666666666666,
             "#ed7953"
            ],
            [
             0.7777777777777778,
             "#fb9f3a"
            ],
            [
             0.8888888888888888,
             "#fdca26"
            ],
            [
             1,
             "#f0f921"
            ]
           ]
          },
          "colorway": [
           "#636efa",
           "#EF553B",
           "#00cc96",
           "#ab63fa",
           "#FFA15A",
           "#19d3f3",
           "#FF6692",
           "#B6E880",
           "#FF97FF",
           "#FECB52"
          ],
          "font": {
           "color": "#2a3f5f"
          },
          "geo": {
           "bgcolor": "white",
           "lakecolor": "white",
           "landcolor": "#E5ECF6",
           "showlakes": true,
           "showland": true,
           "subunitcolor": "white"
          },
          "hoverlabel": {
           "align": "left"
          },
          "hovermode": "closest",
          "mapbox": {
           "style": "light"
          },
          "paper_bgcolor": "white",
          "plot_bgcolor": "#E5ECF6",
          "polar": {
           "angularaxis": {
            "gridcolor": "white",
            "linecolor": "white",
            "ticks": ""
           },
           "bgcolor": "#E5ECF6",
           "radialaxis": {
            "gridcolor": "white",
            "linecolor": "white",
            "ticks": ""
           }
          },
          "scene": {
           "xaxis": {
            "backgroundcolor": "#E5ECF6",
            "gridcolor": "white",
            "gridwidth": 2,
            "linecolor": "white",
            "showbackground": true,
            "ticks": "",
            "zerolinecolor": "white"
           },
           "yaxis": {
            "backgroundcolor": "#E5ECF6",
            "gridcolor": "white",
            "gridwidth": 2,
            "linecolor": "white",
            "showbackground": true,
            "ticks": "",
            "zerolinecolor": "white"
           },
           "zaxis": {
            "backgroundcolor": "#E5ECF6",
            "gridcolor": "white",
            "gridwidth": 2,
            "linecolor": "white",
            "showbackground": true,
            "ticks": "",
            "zerolinecolor": "white"
           }
          },
          "shapedefaults": {
           "line": {
            "color": "#2a3f5f"
           }
          },
          "ternary": {
           "aaxis": {
            "gridcolor": "white",
            "linecolor": "white",
            "ticks": ""
           },
           "baxis": {
            "gridcolor": "white",
            "linecolor": "white",
            "ticks": ""
           },
           "bgcolor": "#E5ECF6",
           "caxis": {
            "gridcolor": "white",
            "linecolor": "white",
            "ticks": ""
           }
          },
          "title": {
           "x": 0.05
          },
          "xaxis": {
           "automargin": true,
           "gridcolor": "white",
           "linecolor": "white",
           "ticks": "",
           "title": {
            "standoff": 15
           },
           "zerolinecolor": "white",
           "zerolinewidth": 2
          },
          "yaxis": {
           "automargin": true,
           "gridcolor": "white",
           "linecolor": "white",
           "ticks": "",
           "title": {
            "standoff": 15
           },
           "zerolinecolor": "white",
           "zerolinewidth": 2
          }
         }
        },
        "title": {
         "text": "🔄 Duplicate Analysis",
         "x": 0.5
        },
        "xaxis": {
         "anchor": "y",
         "domain": [
          0.55,
          1
         ]
        },
        "xaxis2": {
         "anchor": "y2",
         "domain": [
          0,
          0.45
         ]
        },
        "xaxis3": {
         "anchor": "y3",
         "domain": [
          0.55,
          1
         ]
        },
        "yaxis": {
         "anchor": "x",
         "domain": [
          0.625,
          1
         ]
        },
        "yaxis2": {
         "anchor": "x2",
         "domain": [
          0,
          0.375
         ]
        },
        "yaxis3": {
         "anchor": "x3",
         "domain": [
          0,
          0.375
         ]
        }
       }
      }
     },
     "metadata": {},
     "output_type": "display_data"
    }
   ],
   "source": [
    "# Visualize duplicate analysis\n",
    "if duplicate_stats['total_images'] > 0:\n",
    "    plot_duplicate_analysis(duplicate_stats, use_plotly=True)"
   ]
  },
  {
   "cell_type": "code",
   "execution_count": 5,
   "metadata": {},
   "outputs": [
    {
     "name": "stdout",
     "output_type": "stream",
     "text": [
      "🔀 INTER-CLASS DUPLICATE ANALYSIS:\n",
      "=============================================\n",
      "Found 3334 unique images appearing in multiple classes\n",
      "\n",
      "Top 10 inter-class duplicates by storage waste:\n"
     ]
    },
    {
     "data": {
      "text/html": [
       "<div>\n",
       "<style scoped>\n",
       "    .dataframe tbody tr th:only-of-type {\n",
       "        vertical-align: middle;\n",
       "    }\n",
       "\n",
       "    .dataframe tbody tr th {\n",
       "        vertical-align: top;\n",
       "    }\n",
       "\n",
       "    .dataframe thead th {\n",
       "        text-align: right;\n",
       "    }\n",
       "</style>\n",
       "<table border=\"1\" class=\"dataframe\">\n",
       "  <thead>\n",
       "    <tr style=\"text-align: right;\">\n",
       "      <th></th>\n",
       "      <th>hash</th>\n",
       "      <th>classes_affected</th>\n",
       "      <th>total_copies</th>\n",
       "      <th>file_size_mb</th>\n",
       "      <th>dimensions</th>\n",
       "      <th>wasted_storage_mb</th>\n",
       "    </tr>\n",
       "  </thead>\n",
       "  <tbody>\n",
       "    <tr>\n",
       "      <th>16</th>\n",
       "      <td>222b9745d76b...</td>\n",
       "      <td>Bangsilog, Cornsilog, Hotsilog, Spamsilog, Tap...</td>\n",
       "      <td>5</td>\n",
       "      <td>14.204645</td>\n",
       "      <td>5184.0x3456.0</td>\n",
       "      <td>56.818581</td>\n",
       "    </tr>\n",
       "    <tr>\n",
       "      <th>498</th>\n",
       "      <td>f638252f8337...</td>\n",
       "      <td>Pakbet Ilokano, Pakbet Tagalog, Pinakbet</td>\n",
       "      <td>3</td>\n",
       "      <td>10.227165</td>\n",
       "      <td>5472.0x3648.0</td>\n",
       "      <td>20.454330</td>\n",
       "    </tr>\n",
       "    <tr>\n",
       "      <th>63</th>\n",
       "      <td>8c00b8da312a...</td>\n",
       "      <td>Adobong Sitaw, Ginataang Kalabasa at Sitaw, Gi...</td>\n",
       "      <td>4</td>\n",
       "      <td>6.215278</td>\n",
       "      <td>3000.0x2000.0</td>\n",
       "      <td>18.645833</td>\n",
       "    </tr>\n",
       "    <tr>\n",
       "      <th>562</th>\n",
       "      <td>7ad6b796b472...</td>\n",
       "      <td>Adobong Baboy, Adobong Dilaw, Adobong Pula</td>\n",
       "      <td>3</td>\n",
       "      <td>9.117071</td>\n",
       "      <td>6000.0x4000.0</td>\n",
       "      <td>18.234142</td>\n",
       "    </tr>\n",
       "    <tr>\n",
       "      <th>264</th>\n",
       "      <td>d57f67f481c7...</td>\n",
       "      <td>Adobong Sitaw, Ginisang Sitaw, Adobong Baboy</td>\n",
       "      <td>3</td>\n",
       "      <td>8.106813</td>\n",
       "      <td>2500.0x2500.0</td>\n",
       "      <td>16.213627</td>\n",
       "    </tr>\n",
       "    <tr>\n",
       "      <th>518</th>\n",
       "      <td>a91b5224f875...</td>\n",
       "      <td>Champorado, Pancit Malabon, Pancit Palabok</td>\n",
       "      <td>3</td>\n",
       "      <td>6.934529</td>\n",
       "      <td>4608.0x3456.0</td>\n",
       "      <td>13.869059</td>\n",
       "    </tr>\n",
       "    <tr>\n",
       "      <th>3</th>\n",
       "      <td>a49a09269354...</td>\n",
       "      <td>Adobong Sitaw, Chopsuey, Ginataang Kalabasa at...</td>\n",
       "      <td>18</td>\n",
       "      <td>0.577042</td>\n",
       "      <td>1640.0x850.0</td>\n",
       "      <td>9.809708</td>\n",
       "    </tr>\n",
       "    <tr>\n",
       "      <th>2070</th>\n",
       "      <td>9ec97490815d...</td>\n",
       "      <td>Bulanglang, Sinigang na Baka</td>\n",
       "      <td>2</td>\n",
       "      <td>9.223146</td>\n",
       "      <td>3286.0x4929.0</td>\n",
       "      <td>9.223146</td>\n",
       "    </tr>\n",
       "    <tr>\n",
       "      <th>2504</th>\n",
       "      <td>8cc27bf02d75...</td>\n",
       "      <td>Adobong Pula, Sinigang na Bangus</td>\n",
       "      <td>2</td>\n",
       "      <td>6.545164</td>\n",
       "      <td>4608.0x3456.0</td>\n",
       "      <td>6.545164</td>\n",
       "    </tr>\n",
       "    <tr>\n",
       "      <th>1914</th>\n",
       "      <td>f3c56b5e74c3...</td>\n",
       "      <td>Bibingka, Puto Bumbong</td>\n",
       "      <td>2</td>\n",
       "      <td>5.550042</td>\n",
       "      <td>4608.0x3456.0</td>\n",
       "      <td>5.550042</td>\n",
       "    </tr>\n",
       "  </tbody>\n",
       "</table>\n",
       "</div>"
      ],
      "text/plain": [
       "                 hash                                   classes_affected  \\\n",
       "16    222b9745d76b...  Bangsilog, Cornsilog, Hotsilog, Spamsilog, Tap...   \n",
       "498   f638252f8337...           Pakbet Ilokano, Pakbet Tagalog, Pinakbet   \n",
       "63    8c00b8da312a...  Adobong Sitaw, Ginataang Kalabasa at Sitaw, Gi...   \n",
       "562   7ad6b796b472...         Adobong Baboy, Adobong Dilaw, Adobong Pula   \n",
       "264   d57f67f481c7...       Adobong Sitaw, Ginisang Sitaw, Adobong Baboy   \n",
       "518   a91b5224f875...         Champorado, Pancit Malabon, Pancit Palabok   \n",
       "3     a49a09269354...  Adobong Sitaw, Chopsuey, Ginataang Kalabasa at...   \n",
       "2070  9ec97490815d...                       Bulanglang, Sinigang na Baka   \n",
       "2504  8cc27bf02d75...                   Adobong Pula, Sinigang na Bangus   \n",
       "1914  f3c56b5e74c3...                             Bibingka, Puto Bumbong   \n",
       "\n",
       "      total_copies  file_size_mb     dimensions  wasted_storage_mb  \n",
       "16               5     14.204645  5184.0x3456.0          56.818581  \n",
       "498              3     10.227165  5472.0x3648.0          20.454330  \n",
       "63               4      6.215278  3000.0x2000.0          18.645833  \n",
       "562              3      9.117071  6000.0x4000.0          18.234142  \n",
       "264              3      8.106813  2500.0x2500.0          16.213627  \n",
       "518              3      6.934529  4608.0x3456.0          13.869059  \n",
       "3               18      0.577042   1640.0x850.0           9.809708  \n",
       "2070             2      9.223146  3286.0x4929.0           9.223146  \n",
       "2504             2      6.545164  4608.0x3456.0           6.545164  \n",
       "1914             2      5.550042  4608.0x3456.0           5.550042  "
      ]
     },
     "metadata": {},
     "output_type": "display_data"
    },
    {
     "name": "stdout",
     "output_type": "stream",
     "text": [
      "\n",
      "📊 Inter-class Duplicate Summary:\n",
      "   💾 Total wasted storage: 975.1 MB\n",
      "   📈 Average copies per duplicate: 2.3\n",
      "   🏆 Largest duplicate: 14.2 MB (5 copies)\n"
     ]
    }
   ],
   "source": [
    "# Detailed inter-class duplicate analysis\n",
    "def analyze_inter_class_duplicates(duplicate_stats, image_df):\n",
    "    inter_class = duplicate_stats['inter_class_duplicates']\n",
    "    \n",
    "    if not inter_class:\n",
    "        print(\"✅ No inter-class duplicates found!\")\n",
    "        return\n",
    "    \n",
    "    print(f\"🔀 INTER-CLASS DUPLICATE ANALYSIS:\")\n",
    "    print(\"=\" * 45)\n",
    "    print(f\"Found {len(inter_class)} unique images appearing in multiple classes\\n\")\n",
    "    \n",
    "    # Create detailed analysis\n",
    "    inter_class_details = []\n",
    "    \n",
    "    for hash_val, info in inter_class.items():\n",
    "        classes = info['classes']\n",
    "        files = info['files']\n",
    "        count = info['count']\n",
    "        \n",
    "        # Get additional details from image_df\n",
    "        hash_images = image_df[image_df['hash'] == hash_val]\n",
    "        if len(hash_images) > 0:\n",
    "            sample_image = hash_images.iloc[0]\n",
    "            file_size_mb = sample_image['bytes'] / 1048576 if sample_image['bytes'] > 0 else 0\n",
    "            dimensions = f\"{sample_image['width']}x{sample_image['height']}\"\n",
    "        else:\n",
    "            file_size_mb = 0\n",
    "            dimensions = \"Unknown\"\n",
    "        \n",
    "        inter_class_details.append({\n",
    "            'hash': hash_val[:12] + '...',  # Truncated hash for display\n",
    "            'classes_affected': ', '.join(classes),\n",
    "            'total_copies': count,\n",
    "            'file_size_mb': file_size_mb,\n",
    "            'dimensions': dimensions,\n",
    "            'wasted_storage_mb': file_size_mb * (count - 1)  # Storage that could be saved\n",
    "        })\n",
    "    \n",
    "    inter_class_df = pd.DataFrame(inter_class_details)\n",
    "    inter_class_df = inter_class_df.sort_values('wasted_storage_mb', ascending=False)\n",
    "    \n",
    "    print(\"Top 10 inter-class duplicates by storage waste:\")\n",
    "    display(inter_class_df.head(10))\n",
    "    \n",
    "    # Summary statistics\n",
    "    total_wasted_storage = inter_class_df['wasted_storage_mb'].sum()\n",
    "    avg_copies_per_duplicate = inter_class_df['total_copies'].mean()\n",
    "    \n",
    "    print(f\"\\n📊 Inter-class Duplicate Summary:\")\n",
    "    print(f\"   💾 Total wasted storage: {total_wasted_storage:.1f} MB\")\n",
    "    print(f\"   📈 Average copies per duplicate: {avg_copies_per_duplicate:.1f}\")\n",
    "    print(f\"   🏆 Largest duplicate: {inter_class_df.iloc[0]['file_size_mb']:.1f} MB ({inter_class_df.iloc[0]['total_copies']} copies)\")\n",
    "    \n",
    "    return inter_class_df\n",
    "\n",
    "inter_class_df = analyze_inter_class_duplicates(duplicate_stats, downloaded_df)"
   ]
  },
  {
   "cell_type": "code",
   "execution_count": 6,
   "metadata": {},
   "outputs": [
    {
     "name": "stdout",
     "output_type": "stream",
     "text": [
      "🔁 INTRA-CLASS DUPLICATE ANALYSIS:\n",
      "=============================================\n",
      "Found 26 unique images duplicated within the same class\n",
      "\n",
      "Top 10 intra-class duplicates by storage waste:\n"
     ]
    },
    {
     "data": {
      "text/html": [
       "<div>\n",
       "<style scoped>\n",
       "    .dataframe tbody tr th:only-of-type {\n",
       "        vertical-align: middle;\n",
       "    }\n",
       "\n",
       "    .dataframe tbody tr th {\n",
       "        vertical-align: top;\n",
       "    }\n",
       "\n",
       "    .dataframe thead th {\n",
       "        text-align: right;\n",
       "    }\n",
       "</style>\n",
       "<table border=\"1\" class=\"dataframe\">\n",
       "  <thead>\n",
       "    <tr style=\"text-align: right;\">\n",
       "      <th></th>\n",
       "      <th>hash</th>\n",
       "      <th>category</th>\n",
       "      <th>class_name</th>\n",
       "      <th>total_copies</th>\n",
       "      <th>file_size_mb</th>\n",
       "      <th>dimensions</th>\n",
       "      <th>wasted_storage_mb</th>\n",
       "    </tr>\n",
       "  </thead>\n",
       "  <tbody>\n",
       "    <tr>\n",
       "      <th>4</th>\n",
       "      <td>a615d59eb752...</td>\n",
       "      <td>Glow</td>\n",
       "      <td>Okoy</td>\n",
       "      <td>2</td>\n",
       "      <td>0.583369</td>\n",
       "      <td>800.0x800.0</td>\n",
       "      <td>0.583369</td>\n",
       "    </tr>\n",
       "    <tr>\n",
       "      <th>24</th>\n",
       "      <td>4382b59014d6...</td>\n",
       "      <td>Grow</td>\n",
       "      <td>Kalderetang Kambing</td>\n",
       "      <td>2</td>\n",
       "      <td>0.208222</td>\n",
       "      <td>736.0x1564.0</td>\n",
       "      <td>0.208222</td>\n",
       "    </tr>\n",
       "    <tr>\n",
       "      <th>7</th>\n",
       "      <td>5eeb11e0e465...</td>\n",
       "      <td>Glow</td>\n",
       "      <td>Ensaladang Ampalaya</td>\n",
       "      <td>2</td>\n",
       "      <td>0.188663</td>\n",
       "      <td>1600.0x1067.0</td>\n",
       "      <td>0.188663</td>\n",
       "    </tr>\n",
       "    <tr>\n",
       "      <th>0</th>\n",
       "      <td>4994491e1e4a...</td>\n",
       "      <td>Go</td>\n",
       "      <td>Espasol</td>\n",
       "      <td>2</td>\n",
       "      <td>0.183537</td>\n",
       "      <td>640.0x567.0</td>\n",
       "      <td>0.183537</td>\n",
       "    </tr>\n",
       "    <tr>\n",
       "      <th>22</th>\n",
       "      <td>8a77650685a0...</td>\n",
       "      <td>Grow</td>\n",
       "      <td>Inihaw na Liempo</td>\n",
       "      <td>2</td>\n",
       "      <td>0.178895</td>\n",
       "      <td>1280.0x720.0</td>\n",
       "      <td>0.178895</td>\n",
       "    </tr>\n",
       "    <tr>\n",
       "      <th>21</th>\n",
       "      <td>a4162e06dcc0...</td>\n",
       "      <td>Grow</td>\n",
       "      <td>Inasal na Isol</td>\n",
       "      <td>2</td>\n",
       "      <td>0.157674</td>\n",
       "      <td>1200.0x754.0</td>\n",
       "      <td>0.157674</td>\n",
       "    </tr>\n",
       "    <tr>\n",
       "      <th>19</th>\n",
       "      <td>87913144227c...</td>\n",
       "      <td>Grow</td>\n",
       "      <td>Adobong Baboy</td>\n",
       "      <td>2</td>\n",
       "      <td>0.148787</td>\n",
       "      <td>1124.0x1124.0</td>\n",
       "      <td>0.148787</td>\n",
       "    </tr>\n",
       "    <tr>\n",
       "      <th>2</th>\n",
       "      <td>b1bff126d11b...</td>\n",
       "      <td>Go</td>\n",
       "      <td>Biko</td>\n",
       "      <td>2</td>\n",
       "      <td>0.095818</td>\n",
       "      <td>496.0x1033.0</td>\n",
       "      <td>0.095818</td>\n",
       "    </tr>\n",
       "    <tr>\n",
       "      <th>6</th>\n",
       "      <td>c2014e04b5a5...</td>\n",
       "      <td>Glow</td>\n",
       "      <td>Okoy</td>\n",
       "      <td>2</td>\n",
       "      <td>0.083466</td>\n",
       "      <td>612.0x612.0</td>\n",
       "      <td>0.083466</td>\n",
       "    </tr>\n",
       "    <tr>\n",
       "      <th>8</th>\n",
       "      <td>0d6b824d61f9...</td>\n",
       "      <td>Go</td>\n",
       "      <td>Arroz Caldo</td>\n",
       "      <td>2</td>\n",
       "      <td>0.079165</td>\n",
       "      <td>474.0x948.0</td>\n",
       "      <td>0.079165</td>\n",
       "    </tr>\n",
       "  </tbody>\n",
       "</table>\n",
       "</div>"
      ],
      "text/plain": [
       "               hash category           class_name  total_copies  file_size_mb  \\\n",
       "4   a615d59eb752...     Glow                 Okoy             2      0.583369   \n",
       "24  4382b59014d6...     Grow  Kalderetang Kambing             2      0.208222   \n",
       "7   5eeb11e0e465...     Glow  Ensaladang Ampalaya             2      0.188663   \n",
       "0   4994491e1e4a...       Go              Espasol             2      0.183537   \n",
       "22  8a77650685a0...     Grow     Inihaw na Liempo             2      0.178895   \n",
       "21  a4162e06dcc0...     Grow       Inasal na Isol             2      0.157674   \n",
       "19  87913144227c...     Grow        Adobong Baboy             2      0.148787   \n",
       "2   b1bff126d11b...       Go                 Biko             2      0.095818   \n",
       "6   c2014e04b5a5...     Glow                 Okoy             2      0.083466   \n",
       "8   0d6b824d61f9...       Go          Arroz Caldo             2      0.079165   \n",
       "\n",
       "       dimensions  wasted_storage_mb  \n",
       "4     800.0x800.0           0.583369  \n",
       "24   736.0x1564.0           0.208222  \n",
       "7   1600.0x1067.0           0.188663  \n",
       "0     640.0x567.0           0.183537  \n",
       "22   1280.0x720.0           0.178895  \n",
       "21   1200.0x754.0           0.157674  \n",
       "19  1124.0x1124.0           0.148787  \n",
       "2    496.0x1033.0           0.095818  \n",
       "6     612.0x612.0           0.083466  \n",
       "8     474.0x948.0           0.079165  "
      ]
     },
     "metadata": {},
     "output_type": "display_data"
    },
    {
     "name": "stdout",
     "output_type": "stream",
     "text": [
      "\n",
      "📊 Intra-class Duplicate Summary:\n",
      "   💾 Total wasted storage: 2.7 MB\n",
      "   📈 Average copies per duplicate: 2.0\n",
      "   🔥 Classes with most duplicates:\n",
      "      Okoy: 0.7 MB wasted\n",
      "      Kalderetang Kambing: 0.2 MB wasted\n",
      "      Espasol: 0.2 MB wasted\n",
      "      Ensaladang Ampalaya: 0.2 MB wasted\n",
      "      Inihaw na Liempo: 0.2 MB wasted\n"
     ]
    }
   ],
   "source": [
    "# Detailed intra-class duplicate analysis\n",
    "def analyze_intra_class_duplicates(duplicate_stats, image_df):\n",
    "    intra_class = duplicate_stats['intra_class_duplicates']\n",
    "    \n",
    "    if not intra_class:\n",
    "        print(\"✅ No intra-class duplicates found!\")\n",
    "        return\n",
    "    \n",
    "    print(f\"🔁 INTRA-CLASS DUPLICATE ANALYSIS:\")\n",
    "    print(\"=\" * 45)\n",
    "    print(f\"Found {len(intra_class)} unique images duplicated within the same class\\n\")\n",
    "    \n",
    "    # Create detailed analysis\n",
    "    intra_class_details = []\n",
    "    \n",
    "    for hash_val, info in intra_class.items():\n",
    "        class_name = info['class']\n",
    "        files = info['files']\n",
    "        count = info['count']\n",
    "        \n",
    "        # Get additional details from image_df\n",
    "        hash_images = image_df[image_df['hash'] == hash_val]\n",
    "        if len(hash_images) > 0:\n",
    "            sample_image = hash_images.iloc[0]\n",
    "            file_size_mb = sample_image['bytes'] / 1048576 if sample_image['bytes'] > 0 else 0\n",
    "            dimensions = f\"{sample_image['width']}x{sample_image['height']}\"\n",
    "            category = sample_image['category']\n",
    "        else:\n",
    "            file_size_mb = 0\n",
    "            dimensions = \"Unknown\"\n",
    "            category = \"Unknown\"\n",
    "        \n",
    "        intra_class_details.append({\n",
    "            'hash': hash_val[:12] + '...',  # Truncated hash for display\n",
    "            'category': category,\n",
    "            'class_name': class_name,\n",
    "            'total_copies': count,\n",
    "            'file_size_mb': file_size_mb,\n",
    "            'dimensions': dimensions,\n",
    "            'wasted_storage_mb': file_size_mb * (count - 1)  # Storage that could be saved\n",
    "        })\n",
    "    \n",
    "    intra_class_df = pd.DataFrame(intra_class_details)\n",
    "    intra_class_df = intra_class_df.sort_values('wasted_storage_mb', ascending=False)\n",
    "    \n",
    "    print(\"Top 10 intra-class duplicates by storage waste:\")\n",
    "    display(intra_class_df.head(10))\n",
    "    \n",
    "    # Summary statistics\n",
    "    total_wasted_storage = intra_class_df['wasted_storage_mb'].sum()\n",
    "    avg_copies_per_duplicate = intra_class_df['total_copies'].mean()\n",
    "    \n",
    "    # Classes with most duplicates\n",
    "    classes_with_duplicates = intra_class_df.groupby('class_name').agg({\n",
    "        'total_copies': 'sum',\n",
    "        'wasted_storage_mb': 'sum'\n",
    "    }).sort_values('wasted_storage_mb', ascending=False)\n",
    "    \n",
    "    print(f\"\\n📊 Intra-class Duplicate Summary:\")\n",
    "    print(f\"   💾 Total wasted storage: {total_wasted_storage:.1f} MB\")\n",
    "    print(f\"   📈 Average copies per duplicate: {avg_copies_per_duplicate:.1f}\")\n",
    "    print(f\"   🔥 Classes with most duplicates:\")\n",
    "    for class_name, row in classes_with_duplicates.head(5).iterrows():\n",
    "        print(f\"      {class_name}: {row['wasted_storage_mb']:.1f} MB wasted\")\n",
    "    \n",
    "    return intra_class_df\n",
    "\n",
    "intra_class_df = analyze_intra_class_duplicates(duplicate_stats, downloaded_df)"
   ]
  },
  {
   "cell_type": "code",
   "execution_count": 7,
   "metadata": {},
   "outputs": [
    {
     "data": {
      "application/vnd.plotly.v1+json": {
       "config": {
        "plotlyServerURL": "https://plot.ly"
       },
       "data": [
        {
         "domain": {
          "x": [
           0,
           0.45
          ],
          "y": [
           0.625,
           1
          ]
         },
         "hole": 0.4,
         "labels": [
          "Unique Content",
          "Duplicate Content"
         ],
         "marker": {
          "colors": [
           "#2E8B57",
           "#DC143C"
          ]
         },
         "type": "pie",
         "values": [
          9759.345158576965,
          977.8512163162231
         ]
        },
        {
         "marker": {
          "color": [
           "#FF6B6B",
           "#4ECDC4"
          ]
         },
         "text": [
          "975.1 MB",
          "2.7 MB"
         ],
         "textposition": "auto",
         "type": "bar",
         "x": [
          "Inter-class",
          "Intra-class"
         ],
         "xaxis": "x",
         "y": [
          975.1098356246948,
          2.7413806915283203
         ],
         "yaxis": "y"
        },
        {
         "delta": {
          "reference": 10,
          "valueformat": ".1f"
         },
         "domain": {
          "x": [
           0,
           0.45
          ],
          "y": [
           0,
           0.375
          ]
         },
         "gauge": {
          "axis": {
           "range": [
            0,
            50
           ]
          },
          "bar": {
           "color": "darkred"
          },
          "steps": [
           {
            "color": "lightgreen",
            "range": [
             0,
             10
            ]
           },
           {
            "color": "yellow",
            "range": [
             10,
             25
            ]
           },
           {
            "color": "orange",
            "range": [
             25,
             50
            ]
           }
          ],
          "threshold": {
           "line": {
            "color": "red",
            "width": 4
           },
           "thickness": 0.75,
           "value": 30
          }
         },
         "mode": "gauge+number+delta",
         "title": {
          "text": "Potential Savings (%)"
         },
         "type": "indicator",
         "value": 9.107137302645734
        },
        {
         "marker": {
          "color": [
           "#FF7675",
           "#74B9FF"
          ]
         },
         "text": [
          "10737.2 MB",
          "9759.3 MB"
         ],
         "textposition": "auto",
         "type": "bar",
         "x": [
          "Current Storage",
          "After Deduplication"
         ],
         "xaxis": "x2",
         "y": [
          10737.196374893188,
          9759.345158576965
         ],
         "yaxis": "y2"
        }
       ],
       "layout": {
        "annotations": [
         {
          "font": {
           "size": 16
          },
          "showarrow": false,
          "text": "Storage Breakdown",
          "x": 0.225,
          "xanchor": "center",
          "xref": "paper",
          "y": 1,
          "yanchor": "bottom",
          "yref": "paper"
         },
         {
          "font": {
           "size": 16
          },
          "showarrow": false,
          "text": "Potential Savings by Type",
          "x": 0.775,
          "xanchor": "center",
          "xref": "paper",
          "y": 1,
          "yanchor": "bottom",
          "yref": "paper"
         },
         {
          "font": {
           "size": 16
          },
          "showarrow": false,
          "text": "Duplicate Storage Impact",
          "x": 0.225,
          "xanchor": "center",
          "xref": "paper",
          "y": 0.375,
          "yanchor": "bottom",
          "yref": "paper"
         },
         {
          "font": {
           "size": 16
          },
          "showarrow": false,
          "text": "Optimization Opportunity",
          "x": 0.775,
          "xanchor": "center",
          "xref": "paper",
          "y": 0.375,
          "yanchor": "bottom",
          "yref": "paper"
         }
        ],
        "height": 700,
        "showlegend": false,
        "template": {
         "data": {
          "bar": [
           {
            "error_x": {
             "color": "#2a3f5f"
            },
            "error_y": {
             "color": "#2a3f5f"
            },
            "marker": {
             "line": {
              "color": "#E5ECF6",
              "width": 0.5
             },
             "pattern": {
              "fillmode": "overlay",
              "size": 10,
              "solidity": 0.2
             }
            },
            "type": "bar"
           }
          ],
          "barpolar": [
           {
            "marker": {
             "line": {
              "color": "#E5ECF6",
              "width": 0.5
             },
             "pattern": {
              "fillmode": "overlay",
              "size": 10,
              "solidity": 0.2
             }
            },
            "type": "barpolar"
           }
          ],
          "carpet": [
           {
            "aaxis": {
             "endlinecolor": "#2a3f5f",
             "gridcolor": "white",
             "linecolor": "white",
             "minorgridcolor": "white",
             "startlinecolor": "#2a3f5f"
            },
            "baxis": {
             "endlinecolor": "#2a3f5f",
             "gridcolor": "white",
             "linecolor": "white",
             "minorgridcolor": "white",
             "startlinecolor": "#2a3f5f"
            },
            "type": "carpet"
           }
          ],
          "choropleth": [
           {
            "colorbar": {
             "outlinewidth": 0,
             "ticks": ""
            },
            "type": "choropleth"
           }
          ],
          "contour": [
           {
            "colorbar": {
             "outlinewidth": 0,
             "ticks": ""
            },
            "colorscale": [
             [
              0,
              "#0d0887"
             ],
             [
              0.1111111111111111,
              "#46039f"
             ],
             [
              0.2222222222222222,
              "#7201a8"
             ],
             [
              0.3333333333333333,
              "#9c179e"
             ],
             [
              0.4444444444444444,
              "#bd3786"
             ],
             [
              0.5555555555555556,
              "#d8576b"
             ],
             [
              0.6666666666666666,
              "#ed7953"
             ],
             [
              0.7777777777777778,
              "#fb9f3a"
             ],
             [
              0.8888888888888888,
              "#fdca26"
             ],
             [
              1,
              "#f0f921"
             ]
            ],
            "type": "contour"
           }
          ],
          "contourcarpet": [
           {
            "colorbar": {
             "outlinewidth": 0,
             "ticks": ""
            },
            "type": "contourcarpet"
           }
          ],
          "heatmap": [
           {
            "colorbar": {
             "outlinewidth": 0,
             "ticks": ""
            },
            "colorscale": [
             [
              0,
              "#0d0887"
             ],
             [
              0.1111111111111111,
              "#46039f"
             ],
             [
              0.2222222222222222,
              "#7201a8"
             ],
             [
              0.3333333333333333,
              "#9c179e"
             ],
             [
              0.4444444444444444,
              "#bd3786"
             ],
             [
              0.5555555555555556,
              "#d8576b"
             ],
             [
              0.6666666666666666,
              "#ed7953"
             ],
             [
              0.7777777777777778,
              "#fb9f3a"
             ],
             [
              0.8888888888888888,
              "#fdca26"
             ],
             [
              1,
              "#f0f921"
             ]
            ],
            "type": "heatmap"
           }
          ],
          "histogram": [
           {
            "marker": {
             "pattern": {
              "fillmode": "overlay",
              "size": 10,
              "solidity": 0.2
             }
            },
            "type": "histogram"
           }
          ],
          "histogram2d": [
           {
            "colorbar": {
             "outlinewidth": 0,
             "ticks": ""
            },
            "colorscale": [
             [
              0,
              "#0d0887"
             ],
             [
              0.1111111111111111,
              "#46039f"
             ],
             [
              0.2222222222222222,
              "#7201a8"
             ],
             [
              0.3333333333333333,
              "#9c179e"
             ],
             [
              0.4444444444444444,
              "#bd3786"
             ],
             [
              0.5555555555555556,
              "#d8576b"
             ],
             [
              0.6666666666666666,
              "#ed7953"
             ],
             [
              0.7777777777777778,
              "#fb9f3a"
             ],
             [
              0.8888888888888888,
              "#fdca26"
             ],
             [
              1,
              "#f0f921"
             ]
            ],
            "type": "histogram2d"
           }
          ],
          "histogram2dcontour": [
           {
            "colorbar": {
             "outlinewidth": 0,
             "ticks": ""
            },
            "colorscale": [
             [
              0,
              "#0d0887"
             ],
             [
              0.1111111111111111,
              "#46039f"
             ],
             [
              0.2222222222222222,
              "#7201a8"
             ],
             [
              0.3333333333333333,
              "#9c179e"
             ],
             [
              0.4444444444444444,
              "#bd3786"
             ],
             [
              0.5555555555555556,
              "#d8576b"
             ],
             [
              0.6666666666666666,
              "#ed7953"
             ],
             [
              0.7777777777777778,
              "#fb9f3a"
             ],
             [
              0.8888888888888888,
              "#fdca26"
             ],
             [
              1,
              "#f0f921"
             ]
            ],
            "type": "histogram2dcontour"
           }
          ],
          "mesh3d": [
           {
            "colorbar": {
             "outlinewidth": 0,
             "ticks": ""
            },
            "type": "mesh3d"
           }
          ],
          "parcoords": [
           {
            "line": {
             "colorbar": {
              "outlinewidth": 0,
              "ticks": ""
             }
            },
            "type": "parcoords"
           }
          ],
          "pie": [
           {
            "automargin": true,
            "type": "pie"
           }
          ],
          "scatter": [
           {
            "fillpattern": {
             "fillmode": "overlay",
             "size": 10,
             "solidity": 0.2
            },
            "type": "scatter"
           }
          ],
          "scatter3d": [
           {
            "line": {
             "colorbar": {
              "outlinewidth": 0,
              "ticks": ""
             }
            },
            "marker": {
             "colorbar": {
              "outlinewidth": 0,
              "ticks": ""
             }
            },
            "type": "scatter3d"
           }
          ],
          "scattercarpet": [
           {
            "marker": {
             "colorbar": {
              "outlinewidth": 0,
              "ticks": ""
             }
            },
            "type": "scattercarpet"
           }
          ],
          "scattergeo": [
           {
            "marker": {
             "colorbar": {
              "outlinewidth": 0,
              "ticks": ""
             }
            },
            "type": "scattergeo"
           }
          ],
          "scattergl": [
           {
            "marker": {
             "colorbar": {
              "outlinewidth": 0,
              "ticks": ""
             }
            },
            "type": "scattergl"
           }
          ],
          "scattermap": [
           {
            "marker": {
             "colorbar": {
              "outlinewidth": 0,
              "ticks": ""
             }
            },
            "type": "scattermap"
           }
          ],
          "scattermapbox": [
           {
            "marker": {
             "colorbar": {
              "outlinewidth": 0,
              "ticks": ""
             }
            },
            "type": "scattermapbox"
           }
          ],
          "scatterpolar": [
           {
            "marker": {
             "colorbar": {
              "outlinewidth": 0,
              "ticks": ""
             }
            },
            "type": "scatterpolar"
           }
          ],
          "scatterpolargl": [
           {
            "marker": {
             "colorbar": {
              "outlinewidth": 0,
              "ticks": ""
             }
            },
            "type": "scatterpolargl"
           }
          ],
          "scatterternary": [
           {
            "marker": {
             "colorbar": {
              "outlinewidth": 0,
              "ticks": ""
             }
            },
            "type": "scatterternary"
           }
          ],
          "surface": [
           {
            "colorbar": {
             "outlinewidth": 0,
             "ticks": ""
            },
            "colorscale": [
             [
              0,
              "#0d0887"
             ],
             [
              0.1111111111111111,
              "#46039f"
             ],
             [
              0.2222222222222222,
              "#7201a8"
             ],
             [
              0.3333333333333333,
              "#9c179e"
             ],
             [
              0.4444444444444444,
              "#bd3786"
             ],
             [
              0.5555555555555556,
              "#d8576b"
             ],
             [
              0.6666666666666666,
              "#ed7953"
             ],
             [
              0.7777777777777778,
              "#fb9f3a"
             ],
             [
              0.8888888888888888,
              "#fdca26"
             ],
             [
              1,
              "#f0f921"
             ]
            ],
            "type": "surface"
           }
          ],
          "table": [
           {
            "cells": {
             "fill": {
              "color": "#EBF0F8"
             },
             "line": {
              "color": "white"
             }
            },
            "header": {
             "fill": {
              "color": "#C8D4E3"
             },
             "line": {
              "color": "white"
             }
            },
            "type": "table"
           }
          ]
         },
         "layout": {
          "annotationdefaults": {
           "arrowcolor": "#2a3f5f",
           "arrowhead": 0,
           "arrowwidth": 1
          },
          "autotypenumbers": "strict",
          "coloraxis": {
           "colorbar": {
            "outlinewidth": 0,
            "ticks": ""
           }
          },
          "colorscale": {
           "diverging": [
            [
             0,
             "#8e0152"
            ],
            [
             0.1,
             "#c51b7d"
            ],
            [
             0.2,
             "#de77ae"
            ],
            [
             0.3,
             "#f1b6da"
            ],
            [
             0.4,
             "#fde0ef"
            ],
            [
             0.5,
             "#f7f7f7"
            ],
            [
             0.6,
             "#e6f5d0"
            ],
            [
             0.7,
             "#b8e186"
            ],
            [
             0.8,
             "#7fbc41"
            ],
            [
             0.9,
             "#4d9221"
            ],
            [
             1,
             "#276419"
            ]
           ],
           "sequential": [
            [
             0,
             "#0d0887"
            ],
            [
             0.1111111111111111,
             "#46039f"
            ],
            [
             0.2222222222222222,
             "#7201a8"
            ],
            [
             0.3333333333333333,
             "#9c179e"
            ],
            [
             0.4444444444444444,
             "#bd3786"
            ],
            [
             0.5555555555555556,
             "#d8576b"
            ],
            [
             0.6666666666666666,
             "#ed7953"
            ],
            [
             0.7777777777777778,
             "#fb9f3a"
            ],
            [
             0.8888888888888888,
             "#fdca26"
            ],
            [
             1,
             "#f0f921"
            ]
           ],
           "sequentialminus": [
            [
             0,
             "#0d0887"
            ],
            [
             0.1111111111111111,
             "#46039f"
            ],
            [
             0.2222222222222222,
             "#7201a8"
            ],
            [
             0.3333333333333333,
             "#9c179e"
            ],
            [
             0.4444444444444444,
             "#bd3786"
            ],
            [
             0.5555555555555556,
             "#d8576b"
            ],
            [
             0.6666666666666666,
             "#ed7953"
            ],
            [
             0.7777777777777778,
             "#fb9f3a"
            ],
            [
             0.8888888888888888,
             "#fdca26"
            ],
            [
             1,
             "#f0f921"
            ]
           ]
          },
          "colorway": [
           "#636efa",
           "#EF553B",
           "#00cc96",
           "#ab63fa",
           "#FFA15A",
           "#19d3f3",
           "#FF6692",
           "#B6E880",
           "#FF97FF",
           "#FECB52"
          ],
          "font": {
           "color": "#2a3f5f"
          },
          "geo": {
           "bgcolor": "white",
           "lakecolor": "white",
           "landcolor": "#E5ECF6",
           "showlakes": true,
           "showland": true,
           "subunitcolor": "white"
          },
          "hoverlabel": {
           "align": "left"
          },
          "hovermode": "closest",
          "mapbox": {
           "style": "light"
          },
          "paper_bgcolor": "white",
          "plot_bgcolor": "#E5ECF6",
          "polar": {
           "angularaxis": {
            "gridcolor": "white",
            "linecolor": "white",
            "ticks": ""
           },
           "bgcolor": "#E5ECF6",
           "radialaxis": {
            "gridcolor": "white",
            "linecolor": "white",
            "ticks": ""
           }
          },
          "scene": {
           "xaxis": {
            "backgroundcolor": "#E5ECF6",
            "gridcolor": "white",
            "gridwidth": 2,
            "linecolor": "white",
            "showbackground": true,
            "ticks": "",
            "zerolinecolor": "white"
           },
           "yaxis": {
            "backgroundcolor": "#E5ECF6",
            "gridcolor": "white",
            "gridwidth": 2,
            "linecolor": "white",
            "showbackground": true,
            "ticks": "",
            "zerolinecolor": "white"
           },
           "zaxis": {
            "backgroundcolor": "#E5ECF6",
            "gridcolor": "white",
            "gridwidth": 2,
            "linecolor": "white",
            "showbackground": true,
            "ticks": "",
            "zerolinecolor": "white"
           }
          },
          "shapedefaults": {
           "line": {
            "color": "#2a3f5f"
           }
          },
          "ternary": {
           "aaxis": {
            "gridcolor": "white",
            "linecolor": "white",
            "ticks": ""
           },
           "baxis": {
            "gridcolor": "white",
            "linecolor": "white",
            "ticks": ""
           },
           "bgcolor": "#E5ECF6",
           "caxis": {
            "gridcolor": "white",
            "linecolor": "white",
            "ticks": ""
           }
          },
          "title": {
           "x": 0.05
          },
          "xaxis": {
           "automargin": true,
           "gridcolor": "white",
           "linecolor": "white",
           "ticks": "",
           "title": {
            "standoff": 15
           },
           "zerolinecolor": "white",
           "zerolinewidth": 2
          },
          "yaxis": {
           "automargin": true,
           "gridcolor": "white",
           "linecolor": "white",
           "ticks": "",
           "title": {
            "standoff": 15
           },
           "zerolinecolor": "white",
           "zerolinewidth": 2
          }
         }
        },
        "title": {
         "text": "💾 Storage Impact Analysis",
         "x": 0.5
        },
        "xaxis": {
         "anchor": "y",
         "domain": [
          0.55,
          1
         ]
        },
        "xaxis2": {
         "anchor": "y2",
         "domain": [
          0.55,
          1
         ]
        },
        "yaxis": {
         "anchor": "x",
         "domain": [
          0.625,
          1
         ]
        },
        "yaxis2": {
         "anchor": "x2",
         "domain": [
          0,
          0.375
         ]
        }
       }
      }
     },
     "metadata": {},
     "output_type": "display_data"
    },
    {
     "name": "stdout",
     "output_type": "stream",
     "text": [
      "💾 STORAGE IMPACT SUMMARY:\n",
      "   📦 Total Storage: 10737.2 MB\n",
      "   ✅ Unique Content: 9759.3 MB (90.9%)\n",
      "   🔄 Duplicate Content: 977.9 MB (9.1%)\n",
      "   💰 Potential Savings: 977.9 MB\n",
      "   🔀 Inter-class waste: 975.1 MB\n",
      "   🔁 Intra-class waste: 2.7 MB\n"
     ]
    }
   ],
   "source": [
    "# Storage impact visualization\n",
    "def visualize_storage_impact(duplicate_stats, image_df):\n",
    "    if duplicate_stats['total_images'] == 0:\n",
    "        return\n",
    "    \n",
    "    # Calculate storage metrics\n",
    "    total_storage = image_df[image_df['has_download_data'] == True]['bytes'].sum() / 1048576  # MB\n",
    "    \n",
    "    # Estimate duplicate storage\n",
    "    inter_storage = 0\n",
    "    intra_storage = 0\n",
    "    \n",
    "    for hash_val, info in duplicate_stats['inter_class_duplicates'].items():\n",
    "        hash_images = image_df[image_df['hash'] == hash_val]\n",
    "        if len(hash_images) > 0:\n",
    "            file_size = hash_images.iloc[0]['bytes'] / 1048576\n",
    "            inter_storage += file_size * (info['count'] - 1)\n",
    "    \n",
    "    for hash_val, info in duplicate_stats['intra_class_duplicates'].items():\n",
    "        hash_images = image_df[image_df['hash'] == hash_val]\n",
    "        if len(hash_images) > 0:\n",
    "            file_size = hash_images.iloc[0]['bytes'] / 1048576\n",
    "            intra_storage += file_size * (info['count'] - 1)\n",
    "    \n",
    "    total_duplicate_storage = inter_storage + intra_storage\n",
    "    unique_storage = total_storage - total_duplicate_storage\n",
    "    \n",
    "    # Create storage impact visualization\n",
    "    fig = make_subplots(\n",
    "        rows=2, cols=2,\n",
    "        subplot_titles=(\n",
    "            'Storage Breakdown',\n",
    "            'Potential Savings by Type',\n",
    "            'Duplicate Storage Impact',\n",
    "            'Optimization Opportunity'\n",
    "        ),\n",
    "        specs=[[{\"type\": \"pie\"}, {\"type\": \"bar\"}],\n",
    "               [{\"type\": \"indicator\"}, {\"type\": \"bar\"}]]\n",
    "    )\n",
    "    \n",
    "    # Storage breakdown pie chart\n",
    "    fig.add_trace(\n",
    "        go.Pie(\n",
    "            labels=['Unique Content', 'Duplicate Content'],\n",
    "            values=[unique_storage, total_duplicate_storage],\n",
    "            hole=0.4,\n",
    "            marker_colors=['#2E8B57', '#DC143C']\n",
    "        ),\n",
    "        row=1, col=1\n",
    "    )\n",
    "    \n",
    "    # Potential savings by type\n",
    "    fig.add_trace(\n",
    "        go.Bar(\n",
    "            x=['Inter-class', 'Intra-class'],\n",
    "            y=[inter_storage, intra_storage],\n",
    "            text=[f\"{inter_storage:.1f} MB\", f\"{intra_storage:.1f} MB\"],\n",
    "            textposition='auto',\n",
    "            marker_color=['#FF6B6B', '#4ECDC4']\n",
    "        ),\n",
    "        row=1, col=2\n",
    "    )\n",
    "    \n",
    "    # Storage impact indicator\n",
    "    savings_percentage = (total_duplicate_storage / total_storage * 100) if total_storage > 0 else 0\n",
    "    \n",
    "    fig.add_trace(\n",
    "        go.Indicator(\n",
    "            mode=\"gauge+number+delta\",\n",
    "            value=savings_percentage,\n",
    "            title={'text': \"Potential Savings (%)\"},\n",
    "            gauge={\n",
    "                'axis': {'range': [0, 50]},\n",
    "                'bar': {'color': \"darkred\"},\n",
    "                'steps': [\n",
    "                    {'range': [0, 10], 'color': \"lightgreen\"},\n",
    "                    {'range': [10, 25], 'color': \"yellow\"},\n",
    "                    {'range': [25, 50], 'color': \"orange\"}\n",
    "                ],\n",
    "                'threshold': {\n",
    "                    'line': {'color': \"red\", 'width': 4},\n",
    "                    'thickness': 0.75,\n",
    "                    'value': 30\n",
    "                }\n",
    "            },\n",
    "            delta={'reference': 10, 'valueformat': \".1f\"}\n",
    "        ),\n",
    "        row=2, col=1\n",
    "    )\n",
    "    \n",
    "    # Optimization comparison\n",
    "    fig.add_trace(\n",
    "        go.Bar(\n",
    "            x=['Current Storage', 'After Deduplication'],\n",
    "            y=[total_storage, unique_storage],\n",
    "            text=[f\"{total_storage:.1f} MB\", f\"{unique_storage:.1f} MB\"],\n",
    "            textposition='auto',\n",
    "            marker_color=['#FF7675', '#74B9FF']\n",
    "        ),\n",
    "        row=2, col=2\n",
    "    )\n",
    "    \n",
    "    fig.update_layout(\n",
    "        title_text=\"💾 Storage Impact Analysis\",\n",
    "        title_x=0.5,\n",
    "        height=700,\n",
    "        showlegend=False\n",
    "    )\n",
    "    \n",
    "    fig.show()\n",
    "    \n",
    "    print(f\"💾 STORAGE IMPACT SUMMARY:\")\n",
    "    print(f\"   📦 Total Storage: {total_storage:.1f} MB\")\n",
    "    print(f\"   ✅ Unique Content: {unique_storage:.1f} MB ({unique_storage/total_storage*100:.1f}%)\")\n",
    "    print(f\"   🔄 Duplicate Content: {total_duplicate_storage:.1f} MB ({savings_percentage:.1f}%)\")\n",
    "    print(f\"   💰 Potential Savings: {total_duplicate_storage:.1f} MB\")\n",
    "    print(f\"   🔀 Inter-class waste: {inter_storage:.1f} MB\")\n",
    "    print(f\"   🔁 Intra-class waste: {intra_storage:.1f} MB\")\n",
    "\n",
    "if duplicate_stats['total_images'] > 0:\n",
    "    visualize_storage_impact(duplicate_stats, downloaded_df)"
   ]
  },
  {
   "cell_type": "code",
   "execution_count": 8,
   "metadata": {},
   "outputs": [
    {
     "name": "stdout",
     "output_type": "stream",
     "text": [
      "🎯 DEDUPLICATION RECOMMENDATIONS:\n",
      "=============================================\n",
      "\n",
      "1. [HIGH] 3334 inter-class duplicates found\n",
      "   Action: Review class definitions and search terms for overlap\n",
      "   Impact: Reduces confusion between classes and improves model training\n",
      "\n",
      "2. [MEDIUM] 26 intra-class duplicates found\n",
      "   Action: Implement hash-based filtering during download process\n",
      "   Impact: Saves storage space and processing time\n",
      "\n",
      "3. [MEDIUM] Large dataset (10737.2 MB) with duplicates\n",
      "   Action: Consider implementing tiered storage or compression\n",
      "   Impact: Reduces storage costs and improves access speed\n",
      "\n",
      "📋 IMMEDIATE ACTION ITEMS:\n",
      "==============================\n",
      "1. Review inter-class duplicates to identify search term overlap\n",
      "2. Consider moving duplicate images to a common 'shared' category\n",
      "3. Run deduplication script to remove intra-class duplicates\n",
      "4. Add hash checking to prevent future duplicates\n",
      "\n",
      "💰 ESTIMATED BENEFITS:\n",
      "   Storage savings: ~950.2 MB\n",
      "   Processing time reduction: ~8.8%\n",
      "   Improved data quality: Reduced redundancy\n"
     ]
    }
   ],
   "source": [
    "# Generate deduplication recommendations\n",
    "def generate_deduplication_recommendations(duplicate_stats, image_df):\n",
    "    if duplicate_stats['total_images'] == 0:\n",
    "        print(\"No data available for recommendations\")\n",
    "        return\n",
    "    \n",
    "    recommendations = []\n",
    "    \n",
    "    # High duplicate rate\n",
    "    if duplicate_stats['duplicate_rate'] > 20:\n",
    "        recommendations.append({\n",
    "            'priority': 'HIGH',\n",
    "            'issue': f\"High duplicate rate ({duplicate_stats['duplicate_rate']:.1f}%)\",\n",
    "            'action': 'Implement automated deduplication process',\n",
    "            'impact': 'Significant storage savings and improved data quality'\n",
    "        })\n",
    "    \n",
    "    # Inter-class duplicates\n",
    "    if len(duplicate_stats['inter_class_duplicates']) > 0:\n",
    "        recommendations.append({\n",
    "            'priority': 'HIGH',\n",
    "            'issue': f\"{len(duplicate_stats['inter_class_duplicates'])} inter-class duplicates found\",\n",
    "            'action': 'Review class definitions and search terms for overlap',\n",
    "            'impact': 'Reduces confusion between classes and improves model training'\n",
    "        })\n",
    "    \n",
    "    # Intra-class duplicates\n",
    "    if len(duplicate_stats['intra_class_duplicates']) > 0:\n",
    "        recommendations.append({\n",
    "            'priority': 'MEDIUM',\n",
    "            'issue': f\"{len(duplicate_stats['intra_class_duplicates'])} intra-class duplicates found\",\n",
    "            'action': 'Implement hash-based filtering during download process',\n",
    "            'impact': 'Saves storage space and processing time'\n",
    "        })\n",
    "    \n",
    "    # Storage impact\n",
    "    total_storage = image_df[image_df['has_download_data'] == True]['bytes'].sum() / 1048576\n",
    "    if total_storage > 1000:  # > 1GB\n",
    "        recommendations.append({\n",
    "            'priority': 'MEDIUM',\n",
    "            'issue': f\"Large dataset ({total_storage:.1f} MB) with duplicates\",\n",
    "            'action': 'Consider implementing tiered storage or compression',\n",
    "            'impact': 'Reduces storage costs and improves access speed'\n",
    "        })\n",
    "    \n",
    "    print(\"🎯 DEDUPLICATION RECOMMENDATIONS:\")\n",
    "    print(\"=\" * 45)\n",
    "    \n",
    "    if not recommendations:\n",
    "        print(\"✅ Low duplicate rate detected. Current deduplication strategy is working well!\")\n",
    "    else:\n",
    "        for i, rec in enumerate(recommendations, 1):\n",
    "            print(f\"\\n{i}. [{rec['priority']}] {rec['issue']}\")\n",
    "            print(f\"   Action: {rec['action']}\")\n",
    "            print(f\"   Impact: {rec['impact']}\")\n",
    "    \n",
    "    # Specific action items\n",
    "    print(\"\\n📋 IMMEDIATE ACTION ITEMS:\")\n",
    "    print(\"=\" * 30)\n",
    "    \n",
    "    if len(duplicate_stats['inter_class_duplicates']) > 0:\n",
    "        print(\"1. Review inter-class duplicates to identify search term overlap\")\n",
    "        print(\"2. Consider moving duplicate images to a common 'shared' category\")\n",
    "    \n",
    "    if len(duplicate_stats['intra_class_duplicates']) > 0:\n",
    "        print(\"3. Run deduplication script to remove intra-class duplicates\")\n",
    "        print(\"4. Add hash checking to prevent future duplicates\")\n",
    "    \n",
    "    if duplicate_stats['duplicate_rate'] > 10:\n",
    "        print(\"5. Implement pre-download duplicate checking\")\n",
    "        print(\"6. Consider using perceptual hashing for similar (not identical) images\")\n",
    "    \n",
    "    # Calculate ROI of deduplication\n",
    "    if duplicate_stats['duplicate_count'] > 0:\n",
    "        avg_file_size = image_df[image_df['has_download_data'] == True]['bytes'].mean() / 1048576\n",
    "        storage_savings = duplicate_stats['duplicate_count'] * avg_file_size\n",
    "        \n",
    "        print(f\"\\n💰 ESTIMATED BENEFITS:\")\n",
    "        print(f\"   Storage savings: ~{storage_savings:.1f} MB\")\n",
    "        print(f\"   Processing time reduction: ~{duplicate_stats['duplicate_rate']:.1f}%\")\n",
    "        print(f\"   Improved data quality: Reduced redundancy\")\n",
    "\n",
    "generate_deduplication_recommendations(duplicate_stats, downloaded_df)"
   ]
  },
  {
   "cell_type": "markdown",
   "metadata": {},
   "source": [
    "## Duplicate Analysis Summary\n",
    "\n",
    "This analysis provides comprehensive insights into duplicate images in your dataset:\n",
    "\n",
    "### Key Findings\n",
    "- **Overall Duplicate Rate**: Percentage of images that are duplicates\n",
    "- **Inter-class Duplicates**: Same images appearing in different classes\n",
    "- **Intra-class Duplicates**: Same images repeated within a single class\n",
    "- **Storage Impact**: Amount of storage wasted on duplicate content\n",
    "\n",
    "### Types of Duplicates\n",
    "\n",
    "#### Inter-class Duplicates\n",
    "- **Problem**: Same image appears in multiple classes\n",
    "- **Impact**: Can confuse machine learning models\n",
    "- **Solution**: Review search terms and class definitions\n",
    "\n",
    "#### Intra-class Duplicates\n",
    "- **Problem**: Same image downloaded multiple times for one class\n",
    "- **Impact**: Wastes storage and processing time\n",
    "- **Solution**: Implement hash-based filtering\n",
    "\n",
    "### Optimization Opportunities\n",
    "1. **Immediate**: Remove duplicate files to save storage\n",
    "2. **Short-term**: Implement duplicate checking in download process\n",
    "3. **Long-term**: Use perceptual hashing for similar image detection\n",
    "4. **Ongoing**: Regular deduplication maintenance\n",
    "\n",
    "### Next Steps\n",
    "1. **Review Details**: Examine specific duplicate files listed above\n",
    "2. **Implement Deduplication**: Run automated deduplication tools\n",
    "3. **Prevent Future Duplicates**: Add hash checking to scraping process\n",
    "4. **Monitor Progress**: Track duplicate rates over time"
   ]
  }
 ],
 "metadata": {
  "kernelspec": {
   "display_name": "venv (3.12.10)",
   "language": "python",
   "name": "python3"
  },
  "language_info": {
   "codemirror_mode": {
    "name": "ipython",
    "version": 3
   },
   "file_extension": ".py",
   "mimetype": "text/x-python",
   "name": "python",
   "nbconvert_exporter": "python",
   "pygments_lexer": "ipython3",
   "version": "3.12.10"
  }
 },
 "nbformat": 4,
 "nbformat_minor": 4
}
