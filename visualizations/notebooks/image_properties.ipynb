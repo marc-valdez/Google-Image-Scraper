{
 "cells": [
  {
   "cell_type": "markdown",
   "metadata": {},
   "source": [
    "# Image Properties Analysis\n",
    "\n",
    "This notebook analyzes the technical properties of the scraped images, including:\n",
    "- File size distributions and statistics\n",
    "- Image dimensions analysis\n",
    "- Color mode breakdown\n",
    "- Format distribution and popularity"
   ]
  },
  {
   "cell_type": "markdown",
   "metadata": {},
   "source": [
    "## Setup and Data Loading"
   ]
  },
  {
   "cell_type": "code",
   "execution_count": null,
   "metadata": {},
   "outputs": [],
   "source": [
    "import sys\n",
    "sys.path.append('../visualizers')\n",
    "sys.path.append('../utils')\n",
    "\n",
    "from image_analysis import create_combined_image_analysis\n",
    "from data_loader import load_report_data, get_file_size_stats, get_dimension_stats, format_bytes\n",
    "from plot_helpers import apply_global_style, display_config\n",
    "\n",
    "apply_global_style()\n",
    "\n",
    "data = load_report_data('../../sample_report.json')\n",
    "print(\"Data loaded successfully!\")\n",
    "print(f\"Generated at: {data.get('generated_at', 'Unknown')}\")"
   ]
  },
  {
   "cell_type": "markdown",
   "metadata": {},
   "source": [
    "## File Size Analysis\n",
    "\n",
    "Distribution and statistics of image file sizes:"
   ]
  },
  {
   "cell_type": "code",
   "execution_count": null,
   "metadata": {},
   "outputs": [],
   "source": [
    "charts = create_combined_image_analysis(data)\n",
    "\n",
    "size_fig = charts['file_size_histogram']\n",
    "size_fig.show(config=display_config())"
   ]
  },
  {
   "cell_type": "markdown",
   "metadata": {},
   "source": [
    "## Image Dimensions Analysis\n",
    "\n",
    "Width and height distribution patterns:"
   ]
  },
  {
   "cell_type": "code",
   "execution_count": null,
   "metadata": {},
   "outputs": [],
   "source": [
    "dimension_fig = charts['dimension_scatter']\n",
    "dimension_fig.show(config=display_config())"
   ]
  },
  {
   "cell_type": "markdown",
   "metadata": {},
   "source": [
    "## Dimension Ranges Comparison\n",
    "\n",
    "Detailed breakdown of minimum, average, and maximum dimensions:"
   ]
  },
  {
   "cell_type": "code",
   "execution_count": null,
   "metadata": {},
   "outputs": [],
   "source": [
    "ranges_fig = charts['dimension_ranges']\n",
    "ranges_fig.show(config=display_config())"
   ]
  },
  {
   "cell_type": "markdown",
   "metadata": {},
   "source": [
    "## Color Mode Distribution\n",
    "\n",
    "Breakdown of color modes (RGB, RGBA, etc.):"
   ]
  },
  {
   "cell_type": "code",
   "execution_count": null,
   "metadata": {},
   "outputs": [],
   "source": [
    "color_fig = charts['color_mode_distribution']\n",
    "color_fig.show(config=display_config())"
   ]
  },
  {
   "cell_type": "markdown",
   "metadata": {},
   "source": [
    "## File Format Popularity\n",
    "\n",
    "Most common image formats in the dataset:"
   ]
  },
  {
   "cell_type": "code",
   "execution_count": null,
   "metadata": {},
   "outputs": [],
   "source": [
    "format_fig = charts['format_popularity']\n",
    "format_fig.show(config=display_config())"
   ]
  },
  {
   "cell_type": "markdown",
   "metadata": {},
   "source": [
    "## Combined Size and Format Analysis\n",
    "\n",
    "Relationship between file size and format distribution:"
   ]
  },
  {
   "cell_type": "code",
   "execution_count": null,
   "metadata": {},
   "outputs": [],
   "source": [
    "combined_fig = charts['size_format_analysis']\n",
    "combined_fig.show(config=display_config())"
   ]
  },
  {
   "cell_type": "markdown",
   "metadata": {},
   "source": [
    "## Technical Statistics Summary\n",
    "\n",
    "Key technical insights from the image analysis:"
   ]
  },
  {
   "cell_type": "code",
   "execution_count": null,
   "metadata": {},
   "outputs": [],
   "source": [
    "file_stats = get_file_size_stats(data)\n",
    "dim_stats = get_dimension_stats(data)\n",
    "\n",
    "print(\"=== FILE SIZE STATISTICS ===\")\n",
    "print(f\"Average Size: {format_bytes(file_stats.get('average_bytes', 0))}\")\n",
    "print(f\"Minimum Size: {format_bytes(file_stats.get('min_bytes', 0))}\")\n",
    "print(f\"Maximum Size: {format_bytes(file_stats.get('max_bytes', 0))}\")\n",
    "print(f\"Total Storage: {format_bytes(file_stats.get('total_bytes', 0))}\")\n",
    "\n",
    "print(\"\\n=== DIMENSION STATISTICS ===\")\n",
    "print(f\"Average Dimensions: {dim_stats.get('avg_width', 0):.0f} x {dim_stats.get('avg_height', 0):.0f} pixels\")\n",
    "print(f\"Min Dimensions: {dim_stats.get('min_width', 0)} x {dim_stats.get('min_height', 0)} pixels\")\n",
    "print(f\"Max Dimensions: {dim_stats.get('max_width', 0)} x {dim_stats.get('max_height', 0)} pixels\")\n",
    "\n",
    "avg_aspect_ratio = dim_stats.get('avg_width', 1) / dim_stats.get('avg_height', 1)\n",
    "print(f\"Average Aspect Ratio: {avg_aspect_ratio:.2f}:1\")"
   ]
  },
  {
   "cell_type": "markdown",
   "metadata": {},
   "source": [
    "## Format and Color Mode Summary"
   ]
  },
  {
   "cell_type": "code",
   "execution_count": null,
   "metadata": {},
   "outputs": [],
   "source": [
    "from utils import extract_quantitative_stats\n",
    "\n",
    "quant_stats = extract_quantitative_stats(data)\n",
    "formats = quant_stats.get('formats', {})\n",
    "color_modes = quant_stats.get('color_modes', {})\n",
    "\n",
    "print(\"=== TOP FILE FORMATS ===\")\n",
    "sorted_formats = sorted(formats.items(), key=lambda x: x[1], reverse=True)\n",
    "for fmt, count in sorted_formats[:5]:\n",
    "    percentage = (count / sum(formats.values())) * 100\n",
    "    print(f\"{fmt.upper()}: {count:,} images ({percentage:.1f}%)\")\n",
    "\n",
    "print(\"\\n=== COLOR MODES ===\")\n",
    "sorted_modes = sorted(color_modes.items(), key=lambda x: x[1], reverse=True)\n",
    "for mode, count in sorted_modes:\n",
    "    percentage = (count / sum(color_modes.values())) * 100\n",
    "    print(f\"{mode}: {count:,} images ({percentage:.1f}%)\")"
   ]
  },
  {
   "cell_type": "markdown",
   "metadata": {},
   "source": [
    "## Export Options\n",
    "\n",
    "Save charts for technical documentation:"
   ]
  },
  {
   "cell_type": "code",
   "execution_count": null,
   "metadata": {},
   "outputs": [],
   "source": [
    "# Uncomment to save charts\n",
    "# from plot_helpers import save_plot\n",
    "# \n",
    "# save_plot(size_fig, 'file_size_analysis', 'png', width=1000, height=500)\n",
    "# save_plot(dimension_fig, 'dimension_scatter', 'png', width=1000, height=600)\n",
    "# save_plot(color_fig, 'color_mode_distribution', 'png', width=800, height=600)\n",
    "# save_plot(format_fig, 'format_popularity', 'png', width=800, height=600)\n",
    "# save_plot(combined_fig, 'size_format_combined', 'html')\n",
    "# \n",
    "# print(\"Technical analysis charts saved to visualizations/output/\")"
   ]
  }
 ],
 "metadata": {
  "kernelspec": {
   "display_name": ".venv (3.12.10)",
   "language": "python",
   "name": "python3"
  },
  "language_info": {
   "codemirror_mode": {
    "name": "ipython",
    "version": 3
   },
   "file_extension": ".py",
   "mimetype": "text/x-python",
   "name": "python",
   "nbconvert_exporter": "python",
   "pygments_lexer": "ipython3",
   "version": "3.12.10"
  }
 },
 "nbformat": 4,
 "nbformat_minor": 4
}
