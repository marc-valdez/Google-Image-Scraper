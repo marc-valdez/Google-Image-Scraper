{
 "cells": [
  {
   "cell_type": "markdown",
   "metadata": {},
   "source": [
    "# Dataset Overview Analysis\n",
    "\n",
    "This notebook provides a comprehensive overview of the image scraping dataset, including:\n",
    "- High-level statistics and metrics\n",
    "- Class and category distributions\n",
    "- Success rate analysis\n",
    "- Format distribution overview"
   ]
  },
  {
   "cell_type": "markdown",
   "metadata": {},
   "source": [
    "## Setup and Data Loading"
   ]
  },
  {
   "cell_type": "code",
   "execution_count": null,
   "metadata": {},
   "outputs": [],
   "source": [
    "import sys\n",
    "import os\n",
    "\n",
    "# Add paths for imports\n",
    "notebook_dir = os.path.dirname(os.path.abspath('__file__' if '__file__' in globals() else 'dataset_overview.ipynb'))\n",
    "visualizations_dir = os.path.dirname(notebook_dir)\n",
    "sys.path.append(os.path.join(visualizations_dir, 'visualizers'))\n",
    "sys.path.append(os.path.join(visualizations_dir, 'utils'))\n",
    "\n",
    "from dataset_stats import create_combined_overview\n",
    "from data_loader import load_report_data\n",
    "from plot_helpers import apply_global_style, display_config\n",
    "\n",
    "apply_global_style()\n",
    "\n",
    "# Load data - adjust path as needed\n",
    "data = load_report_data('../../sample_report.json')\n",
    "print(\"Data loaded successfully!\")\n",
    "print(f\"Generated at: {data.get('generated_at', 'Unknown')}\")"
   ]
  },
  {
   "cell_type": "markdown",
   "metadata": {},
   "source": [
    "## Dataset Overview Dashboard\n",
    "\n",
    "Key metrics at a glance:"
   ]
  },
  {
   "cell_type": "code",
   "execution_count": null,
   "metadata": {},
   "outputs": [],
   "source": [
    "charts = create_combined_overview(data)\n",
    "\n",
    "overview_fig = charts['overview']\n",
    "overview_fig.show(config=display_config())"
   ]
  },
  {
   "cell_type": "markdown",
   "metadata": {},
   "source": [
    "## Class Distribution Analysis\n",
    "\n",
    "Distribution of images across different classes:"
   ]
  },
  {
   "cell_type": "code",
   "execution_count": null,
   "metadata": {},
   "outputs": [],
   "source": [
    "class_fig = charts['class_distribution']\n",
    "class_fig.show(config=display_config())"
   ]
  },
  {
   "cell_type": "markdown",
   "metadata": {},
   "source": [
    "## Category Distribution\n",
    "\n",
    "Breakdown by major categories (Grow, Glow, Go):"
   ]
  },
  {
   "cell_type": "code",
   "execution_count": null,
   "metadata": {},
   "outputs": [],
   "source": [
    "category_fig = charts['category_distribution']\n",
    "category_fig.show(config=display_config())"
   ]
  },
  {
   "cell_type": "markdown",
   "metadata": {},
   "source": [
    "## Download Success Rate\n",
    "\n",
    "Overall success rate of the scraping operation:"
   ]
  },
  {
   "cell_type": "code",
   "execution_count": null,
   "metadata": {},
   "outputs": [],
   "source": [
    "success_fig = charts['success_rate']\n",
    "success_fig.show(config=display_config())"
   ]
  },
  {
   "cell_type": "markdown",
   "metadata": {},
   "source": [
    "## Summary Statistics\n",
    "\n",
    "Let's extract some key insights from the data:"
   ]
  },
  {
   "cell_type": "code",
   "execution_count": null,
   "metadata": {},
   "outputs": [],
   "source": [
    "from data_loader import get_overview_metrics, extract_quality_stats\n",
    "\n",
    "metrics = get_overview_metrics(data)\n",
    "quality = extract_quality_stats(data)\n",
    "\n",
    "print(\"=== DATASET SUMMARY ===\")\n",
    "print(f\"Total Images: {metrics['total_images']:,}\")\n",
    "print(f\"Total Classes: {metrics['total_classes']}\")\n",
    "print(f\"Total Categories: {metrics['total_categories']}\")\n",
    "print(f\"Success Rate: {metrics['success_rate']:.2f}%\")\n",
    "print(f\"Average File Size: {metrics['avg_file_size_mb']:.2f} MB\")\n",
    "print(\"\\n=== DOWNLOAD STATS ===\")\n",
    "print(f\"URLs Found: {quality.get('total_urls_found', 0):,}\")\n",
    "print(f\"Successfully Downloaded: {quality.get('total_downloaded', 0):,}\")\n",
    "print(f\"Missing/Failed: {quality.get('urls_found_but_missing_metadata', 0):,}\")"
   ]
  },
  {
   "cell_type": "markdown",
   "metadata": {},
   "source": [
    "## Export Options\n",
    "\n",
    "Save charts for reports or presentations:"
   ]
  },
  {
   "cell_type": "code",
   "execution_count": null,
   "metadata": {},
   "outputs": [],
   "source": [
    "# Uncomment to save charts\n",
    "# from plot_helpers import save_plot\n",
    "# \n",
    "# save_plot(overview_fig, 'dataset_overview_dashboard', 'html')\n",
    "# save_plot(class_fig, 'class_distribution', 'png', width=1000, height=600)\n",
    "# save_plot(category_fig, 'category_distribution', 'png', width=800, height=600)\n",
    "# save_plot(success_fig, 'success_rate_gauge', 'png', width=600, height=400)\n",
    "# \n",
    "# print(\"Charts saved to visualizations/output/\")"
   ]
  }
 ],
 "metadata": {
  "kernelspec": {
   "display_name": ".venv (3.12.10)",
   "language": "python",
   "name": "python3"
  },
  "language_info": {
   "codemirror_mode": {
    "name": "ipython",
    "version": 3
   },
   "file_extension": ".py",
   "mimetype": "text/x-python",
   "name": "python",
   "nbconvert_exporter": "python",
   "pygments_lexer": "ipython3",
   "version": "3.12.10"
  }
 },
 "nbformat": 4,
 "nbformat_minor": 4
}
