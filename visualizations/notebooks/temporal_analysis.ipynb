{
 "cells": [
  {
   "cell_type": "markdown",
   "metadata": {},
   "source": [
    "# Temporal Analysis\n",
    "\n",
    "This notebook analyzes time-based statistics and scraping performance:\n",
    "- Scraping timeline and duration\n",
    "- Download intervals and rates\n",
    "- Performance efficiency metrics\n",
    "- Time-based insights and patterns"
   ]
  },
  {
   "cell_type": "markdown",
   "metadata": {},
   "source": [
    "## Setup and Data Loading"
   ]
  },
  {
   "cell_type": "code",
   "execution_count": null,
   "metadata": {},
   "outputs": [],
   "source": [
    "import sys\n",
    "sys.path.append('../visualizers')\n",
    "sys.path.append('../utils')\n",
    "\n",
    "from temporal_stats import create_combined_temporal_analysis\n",
    "from data_loader import load_report_data, get_temporal_metrics, get_overview_metrics, format_duration\n",
    "from plot_helpers import apply_global_style, display_config\n",
    "\n",
    "apply_global_style()\n",
    "\n",
    "data = load_report_data('../../sample_report.json')\n",
    "print(\"Data loaded successfully!\")\n",
    "print(f\"Generated at: {data.get('generated_at', 'Unknown')}\")"
   ]
  },
  {
   "cell_type": "markdown",
   "metadata": {},
   "source": [
    "## Performance Metrics Overview\n",
    "\n",
    "Key performance indicators:"
   ]
  },
  {
   "cell_type": "code",
   "execution_count": null,
   "metadata": {},
   "outputs": [],
   "source": [
    "charts = create_combined_temporal_analysis(data)\n",
    "\n",
    "performance_fig = charts['performance_metrics']\n",
    "performance_fig.show(config=display_config())"
   ]
  },
  {
   "cell_type": "markdown",
   "metadata": {},
   "source": [
    "## Scraping Timeline\n",
    "\n",
    "Visual timeline of the scraping operation:"
   ]
  },
  {
   "cell_type": "code",
   "execution_count": null,
   "metadata": {},
   "outputs": [],
   "source": [
    "timeline_fig = charts['scraping_timeline']\n",
    "timeline_fig.show(config=display_config())"
   ]
  },
  {
   "cell_type": "markdown",
   "metadata": {},
   "source": [
    "## Scraping Efficiency\n",
    "\n",
    "Overall efficiency gauge:"
   ]
  },
  {
   "cell_type": "code",
   "execution_count": null,
   "metadata": {},
   "outputs": [],
   "source": [
    "efficiency_fig = charts['efficiency_gauge']\n",
    "efficiency_fig.show(config=display_config())"
   ]
  },
  {
   "cell_type": "markdown",
   "metadata": {},
   "source": [
    "## Download Interval Analysis\n",
    "\n",
    "Average time between downloads:"
   ]
  },
  {
   "cell_type": "code",
   "execution_count": null,
   "metadata": {},
   "outputs": [],
   "source": [
    "interval_fig = charts['interval_analysis']\n",
    "interval_fig.show(config=display_config())"
   ]
  },
  {
   "cell_type": "markdown",
   "metadata": {},
   "source": [
    "## Time Duration Breakdown\n",
    "\n",
    "Total duration in different time units:"
   ]
  },
  {
   "cell_type": "code",
   "execution_count": null,
   "metadata": {},
   "outputs": [],
   "source": [
    "breakdown_fig = charts['time_breakdown']\n",
    "breakdown_fig.show(config=display_config())"
   ]
  },
  {
   "cell_type": "markdown",
   "metadata": {},
   "source": [
    "## Rate Comparison Analysis\n",
    "\n",
    "Actual vs theoretical download rates:"
   ]
  },
  {
   "cell_type": "code",
   "execution_count": null,
   "metadata": {},
   "outputs": [],
   "source": [
    "rate_fig = charts['rate_comparison']\n",
    "rate_fig.show(config=display_config())"
   ]
  },
  {
   "cell_type": "markdown",
   "metadata": {},
   "source": [
    "## Temporal Statistics Report\n",
    "\n",
    "Comprehensive temporal analysis:"
   ]
  },
  {
   "cell_type": "code",
   "execution_count": null,
   "metadata": {},
   "outputs": [],
   "source": [
    "temporal_metrics = get_temporal_metrics(data)\n",
    "overview_metrics = get_overview_metrics(data)\n",
    "\n",
    "duration_hours = temporal_metrics['duration_hours']\n",
    "total_images = overview_metrics['total_images']\n",
    "avg_interval_seconds = temporal_metrics['avg_interval_seconds']\n",
    "\n",
    "print(\"=== TEMPORAL STATISTICS ===\")\n",
    "print(f\"Start Time: {temporal_metrics['earliest']}\")\n",
    "print(f\"End Time: {temporal_metrics['latest']}\")\n",
    "print(f\"Total Duration: {format_duration(duration_hours)}\")\n",
    "print(f\"Total Images: {total_images:,}\")\n",
    "\n",
    "print(\"\\n=== DOWNLOAD INTERVALS ===\")\n",
    "print(f\"Average Interval: {avg_interval_seconds:.2f} seconds\")\n",
    "print(f\"Average Interval: {temporal_metrics['avg_interval_minutes']:.3f} minutes\")\n",
    "\n",
    "print(\"\\n=== PERFORMANCE RATES ===\")\n",
    "if duration_hours > 0:\n",
    "    images_per_hour = total_images / duration_hours\n",
    "    images_per_minute = images_per_hour / 60\n",
    "    images_per_second = images_per_minute / 60\n",
    "    \n",
    "    print(f\"Images per Hour: {images_per_hour:.1f}\")\n",
    "    print(f\"Images per Minute: {images_per_minute:.2f}\")\n",
    "    print(f\"Images per Second: {images_per_second:.3f}\")\n",
    "    \n",
    "    # Calculate theoretical maximum\n",
    "    if avg_interval_seconds > 0:\n",
    "        theoretical_max_per_hour = 3600 / avg_interval_seconds\n",
    "        efficiency = (images_per_hour / theoretical_max_per_hour) * 100\n",
    "        \n",
    "        print(f\"\\n=== EFFICIENCY ANALYSIS ===\")\n",
    "        print(f\"Theoretical Max Rate: {theoretical_max_per_hour:.1f} images/hour\")\n",
    "        print(f\"Actual Rate: {images_per_hour:.1f} images/hour\")\n",
    "        print(f\"Efficiency: {efficiency:.1f}%\")\n",
    "        \n",
    "        if efficiency >= 90:\n",
    "            print(\"🟢 Excellent efficiency - optimal performance\")\n",
    "        elif efficiency >= 70:\n",
    "            print(\"🟡 Good efficiency - minor optimization possible\")\n",
    "        else:\n",
    "            print(\"🔴 Low efficiency - performance optimization needed\")"
   ]
  },
  {
   "cell_type": "markdown",
   "metadata": {},
   "source": [
    "## Performance Insights\n",
    "\n",
    "Analysis and recommendations based on temporal patterns:"
   ]
  },
  {
   "cell_type": "code",
   "execution_count": null,
   "metadata": {},
   "outputs": [],
   "source": [
    "print(\"=== PERFORMANCE INSIGHTS ===\")\n",
    "\n",
    "# Time efficiency analysis\n",
    "if duration_hours < 1:\n",
    "    print(\"⚡ Very fast scraping operation (< 1 hour)\")\n",
    "elif duration_hours < 24:\n",
    "    print(f\"🕐 Moderate duration operation ({duration_hours:.1f} hours)\")\n",
    "else:\n",
    "    days = duration_hours / 24\n",
    "    print(f\"📅 Extended operation ({days:.1f} days)\")\n",
    "\n",
    "# Interval analysis\n",
    "if avg_interval_seconds < 5:\n",
    "    print(\"⚡ Very aggressive scraping rate (< 5s intervals)\")\n",
    "    print(\"   Consider: Rate limiting compliance, server load impact\")\n",
    "elif avg_interval_seconds < 30:\n",
    "    print(\"⚖️  Moderate scraping rate (5-30s intervals)\")\n",
    "    print(\"   Good balance between speed and server courtesy\")\n",
    "else:\n",
    "    print(\"🐌 Conservative scraping rate (> 30s intervals)\")\n",
    "    print(\"   Consider: Potential for optimization if resources allow\")\n",
    "\n",
    "# Volume analysis\n",
    "if total_images > 50000:\n",
    "    print(\"📈 Large-scale dataset collection\")\n",
    "    print(\"   Excellent for training robust models\")\n",
    "elif total_images > 10000:\n",
    "    print(\"📊 Medium-scale dataset collection\")\n",
    "    print(\"   Good foundation for model development\")\n",
    "else:\n",
    "    print(\"📋 Small-scale dataset collection\")\n",
    "    print(\"   Consider expanding for better model performance\")\n",
    "\n",
    "print(\"\\n=== OPTIMIZATION RECOMMENDATIONS ===\")\n",
    "\n",
    "if duration_hours > 0 and total_images > 0:\n",
    "    rate = total_images / duration_hours\n",
    "    if rate < 100:\n",
    "        print(\"🔧 Performance Optimization Suggestions:\")\n",
    "        print(\"   - Implement parallel processing\")\n",
    "        print(\"   - Optimize network requests\")\n",
    "        print(\"   - Review delay/timeout settings\")\n",
    "    elif rate < 1000:\n",
    "        print(\"⚡ Moderate Performance - Consider:\")\n",
    "        print(\"   - Batch processing improvements\")\n",
    "        print(\"   - Connection pooling\")\n",
    "    else:\n",
    "        print(\"🚀 Excellent Performance - Maintain:\")\n",
    "        print(\"   - Current optimization strategies\")\n",
    "        print(\"   - Monitor for consistency\")"
   ]
  },
  {
   "cell_type": "markdown",
   "metadata": {},
   "source": [
    "## Export Options\n",
    "\n",
    "Save temporal analysis charts:"
   ]
  },
  {
   "cell_type": "code",
   "execution_count": null,
   "metadata": {},
   "outputs": [],
   "source": [
    "# Uncomment to save charts\n",
    "# from plot_helpers import save_plot\n",
    "# \n",
    "# save_plot(performance_fig, 'performance_metrics', 'png', width=1200, height=400)\n",
    "# save_plot(timeline_fig, 'scraping_timeline', 'png', width=1000, height=400)\n",
    "# save_plot(efficiency_fig, 'efficiency_gauge', 'png', width=600, height=500)\n",
    "# save_plot(interval_fig, 'interval_analysis', 'png', width=800, height=500)\n",
    "# save_plot(rate_fig, 'rate_comparison', 'png', width=800, height=500)\n",
    "# \n",
    "# print(\"Temporal analysis charts saved to visualizations/output/\")"
   ]
  }
 ],
 "metadata": {
  "kernelspec": {
   "display_name": ".venv (3.12.10)",
   "language": "python",
   "name": "python3"
  },
  "language_info": {
   "codemirror_mode": {
    "name": "ipython",
    "version": 3
   },
   "file_extension": ".py",
   "mimetype": "text/x-python",
   "name": "python",
   "nbconvert_exporter": "python",
   "pygments_lexer": "ipython3",
   "version": "3.12.10"
  }
 },
 "nbformat": 4,
 "nbformat_minor": 4
}
