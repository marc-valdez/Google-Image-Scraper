{
 "cells": [
  {
   "cell_type": "markdown",
   "metadata": {},
   "source": [
    "# Quality Analysis\n",
    "\n",
    "This notebook focuses on data quality and download success metrics:\n",
    "- Overall success rate analysis\n",
    "- Class-specific success rates\n",
    "- Download efficiency metrics\n",
    "- Quality issues identification and impact"
   ]
  },
  {
   "cell_type": "markdown",
   "metadata": {},
   "source": [
    "## Setup and Data Loading"
   ]
  },
  {
   "cell_type": "code",
   "execution_count": null,
   "metadata": {},
   "outputs": [],
   "source": [
    "import sys\n",
    "sys.path.append('../visualizers')\n",
    "sys.path.append('../utils')\n",
    "\n",
    "from quality_metrics import create_combined_quality_analysis\n",
    "from data_loader import load_report_data, extract_quality_stats, create_quality_issues_df\n",
    "from plot_helpers import apply_global_style, display_config\n",
    "\n",
    "apply_global_style()\n",
    "\n",
    "data = load_report_data('../../sample_report.json')\n",
    "print(\"Data loaded successfully!\")\n",
    "print(f\"Generated at: {data.get('generated_at', 'Unknown')}\")"
   ]
  },
  {
   "cell_type": "markdown",
   "metadata": {},
   "source": [
    "## Quality Metrics Summary\n",
    "\n",
    "High-level quality indicators:"
   ]
  },
  {
   "cell_type": "code",
   "execution_count": null,
   "metadata": {},
   "outputs": [],
   "source": [
    "charts = create_combined_quality_analysis(data)\n",
    "\n",
    "summary_fig = charts['summary_cards']\n",
    "summary_fig.show(config=display_config())"
   ]
  },
  {
   "cell_type": "markdown",
   "metadata": {},
   "source": [
    "## Overall Success Rate\n",
    "\n",
    "Comprehensive success rate gauge:"
   ]
  },
  {
   "cell_type": "code",
   "execution_count": null,
   "metadata": {},
   "outputs": [],
   "source": [
    "success_fig = charts['success_rate_breakdown']\n",
    "success_fig.show(config=display_config())"
   ]
  },
  {
   "cell_type": "markdown",
   "metadata": {},
   "source": [
    "## Download Efficiency Analysis\n",
    "\n",
    "Funnel analysis of the download process:"
   ]
  },
  {
   "cell_type": "code",
   "execution_count": null,
   "metadata": {},
   "outputs": [],
   "source": [
    "efficiency_fig = charts['efficiency_analysis']\n",
    "efficiency_fig.show(config=display_config())"
   ]
  },
  {
   "cell_type": "markdown",
   "metadata": {},
   "source": [
    "## Class-Specific Success Rates\n",
    "\n",
    "Success rate breakdown by individual classes:"
   ]
  },
  {
   "cell_type": "code",
   "execution_count": null,
   "metadata": {},
   "outputs": [],
   "source": [
    "class_success_fig = charts['class_success_rates']\n",
    "class_success_fig.show(config=display_config())"
   ]
  },
  {
   "cell_type": "markdown",
   "metadata": {},
   "source": [
    "## Download Comparison\n",
    "\n",
    "URLs found vs successfully downloaded:"
   ]
  },
  {
   "cell_type": "code",
   "execution_count": null,
   "metadata": {},
   "outputs": [],
   "source": [
    "comparison_fig = charts['download_comparison']\n",
    "comparison_fig.show(config=display_config())"
   ]
  },
  {
   "cell_type": "markdown",
   "metadata": {},
   "source": [
    "## Detailed Quality Issues\n",
    "\n",
    "In-depth analysis of classes with issues:"
   ]
  },
  {
   "cell_type": "code",
   "execution_count": null,
   "metadata": {},
   "outputs": [],
   "source": [
    "detailed_fig = charts['quality_issues_detailed']\n",
    "detailed_fig.show(config=display_config())"
   ]
  },
  {
   "cell_type": "markdown",
   "metadata": {},
   "source": [
    "## Quality Statistics Report\n",
    "\n",
    "Detailed breakdown of quality metrics:"
   ]
  },
  {
   "cell_type": "code",
   "execution_count": null,
   "metadata": {},
   "outputs": [],
   "source": [
    "quality_stats = extract_quality_stats(data)\n",
    "issues_df = create_quality_issues_df(data)\n",
    "\n",
    "print(\"=== OVERALL QUALITY METRICS ===\")\n",
    "print(f\"Success Rate: {quality_stats.get('success_rate', 0):.2f}%\")\n",
    "print(f\"URLs Found: {quality_stats.get('total_urls_found', 0):,}\")\n",
    "print(f\"Successfully Downloaded: {quality_stats.get('total_downloaded', 0):,}\")\n",
    "print(f\"Missing/Failed: {quality_stats.get('urls_found_but_missing_metadata', 0):,}\")\n",
    "\n",
    "if not issues_df.empty:\n",
    "    print(\"\\n=== CLASSES WITH ISSUES ===\")\n",
    "    for _, row in issues_df.iterrows():\n",
    "        print(f\"\\n{row['class']}:\")\n",
    "        print(f\"  URLs Found: {row['urls_found']:,}\")\n",
    "        print(f\"  Downloaded: {row['urls_downloaded']:,}\")\n",
    "        print(f\"  Missing: {row['missing_downloads']:,}\")\n",
    "        print(f\"  Success Rate: {row['success_rate']:.2f}%\")\n",
    "else:\n",
    "    print(\"\\n✅ No quality issues detected - all classes downloaded successfully!\")\n",
    "\n",
    "total_found = quality_stats.get('total_urls_found', 0)\n",
    "total_downloaded = quality_stats.get('total_downloaded', 0)\n",
    "if total_found > 0:\n",
    "    efficiency = (total_downloaded / total_found) * 100\n",
    "    print(f\"\\n=== EFFICIENCY SCORE ===\")\n",
    "    print(f\"Download Efficiency: {efficiency:.2f}%\")\n",
    "    \n",
    "    if efficiency >= 99:\n",
    "        print(\"🟢 Excellent quality - minimal data loss\")\n",
    "    elif efficiency >= 95:\n",
    "        print(\"🟡 Good quality - acceptable data loss\")\n",
    "    else:\n",
    "        print(\"🔴 Quality concerns - significant data loss detected\")"
   ]
  },
  {
   "cell_type": "markdown",
   "metadata": {},
   "source": [
    "## Recommendations\n",
    "\n",
    "Quality improvement suggestions based on analysis:"
   ]
  },
  {
   "cell_type": "code",
   "execution_count": null,
   "metadata": {},
   "outputs": [],
   "source": [
    "success_rate = quality_stats.get('success_rate', 0)\n",
    "missing_count = quality_stats.get('urls_found_but_missing_metadata', 0)\n",
    "\n",
    "print(\"=== QUALITY RECOMMENDATIONS ===\")\n",
    "\n",
    "if success_rate >= 99:\n",
    "    print(\"✅ Excellent data quality - no immediate action needed\")\n",
    "elif success_rate >= 95:\n",
    "    print(\"⚠️  Good quality with minor issues:\")\n",
    "    print(\"   - Monitor failing URLs for patterns\")\n",
    "    print(\"   - Consider retry mechanisms for failed downloads\")\n",
    "else:\n",
    "    print(\"🚨 Quality concerns requiring attention:\")\n",
    "    print(\"   - Investigate root causes of download failures\")\n",
    "    print(\"   - Implement robust error handling and retries\")\n",
    "    print(\"   - Review URL validation and filtering\")\n",
    "\n",
    "if missing_count > 0:\n",
    "    print(f\"\\n📊 {missing_count:,} URLs missing metadata - consider:\")\n",
    "    print(\"   - Improving metadata collection processes\")\n",
    "    print(\"   - Adding fallback data sources\")\n",
    "    print(\"   - Implementing data validation checks\")\n",
    "\n",
    "if not issues_df.empty:\n",
    "    worst_class = issues_df.loc[issues_df['success_rate'].idxmin()]\n",
    "    print(f\"\\n🎯 Focus improvement efforts on: {worst_class['class']}\")\n",
    "    print(f\"   Current success rate: {worst_class['success_rate']:.1f}%\")"
   ]
  },
  {
   "cell_type": "markdown",
   "metadata": {},
   "source": [
    "## Export Options\n",
    "\n",
    "Save quality analysis reports:"
   ]
  },
  {
   "cell_type": "code",
   "execution_count": null,
   "metadata": {},
   "outputs": [],
   "source": [
    "# Uncomment to save charts\n",
    "# from plot_helpers import save_plot\n",
    "# \n",
    "# save_plot(summary_fig, 'quality_summary', 'png', width=1200, height=400)\n",
    "# save_plot(success_fig, 'success_rate_gauge', 'png', width=600, height=500)\n",
    "# save_plot(efficiency_fig, 'download_efficiency', 'png', width=800, height=500)\n",
    "# save_plot(class_success_fig, 'class_success_rates', 'png', width=1000, height=600)\n",
    "# save_plot(detailed_fig, 'quality_issues_detailed', 'html')\n",
    "# \n",
    "# print(\"Quality analysis charts saved to visualizations/output/\")"
   ]
  }
 ],
 "metadata": {
  "kernelspec": {
   "display_name": ".venv (3.12.10)",
   "language": "python",
   "name": "python3"
  },
  "language_info": {
   "codemirror_mode": {
    "name": "ipython",
    "version": 3
   },
   "file_extension": ".py",
   "mimetype": "text/x-python",
   "name": "python",
   "nbconvert_exporter": "python",
   "pygments_lexer": "ipython3",
   "version": "3.12.10"
  }
 },
 "nbformat": 4,
 "nbformat_minor": 4
}
