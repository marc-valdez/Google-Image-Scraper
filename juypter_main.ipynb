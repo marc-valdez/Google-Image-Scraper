{
 "cells": [
  {
   "cell_type": "markdown",
   "metadata": {},
   "source": [
    "<h3>Google Image Scraper for Juypter Notebook</h3>"
   ]
  },
  {
   "cell_type": "code",
   "execution_count": null,
   "metadata": {},
   "outputs": [],
   "source": [
    "import os\n",
    "import json # Added import\n",
    "\n",
    "from GoogleImageScraper import GoogleImageScraper\n",
    "\n",
    "from patch import webdriver_executable\n",
    "\n",
    "webdriver_path = os.path.normpath(os.path.join(os.getcwd(), 'webdriver', webdriver_executable()))\n",
    "base_image_path = os.path.normpath(os.path.join(os.getcwd(), 'output'))\n",
    "categories_file_path = os.path.normpath(os.path.join(os.getcwd(), 'categories.json'))\n",
    "\n",
    "number_of_images = 10\n",
    "headless = True\n",
    "min_resolution=(0,0)\n",
    "max_resolution=(9999,9999)\n",
    "\n",
    "# Load categories from JSON file\n",
    "try:\n",
    "    with open(categories_file_path, 'r') as f:\n",
    "        categories_data = json.load(f)\n",
    "except FileNotFoundError:\n",
    "    print(f\"[ERROR] Categories file not found at {categories_file_path}\")\n",
    "    categories_data = {}\n",
    "except json.JSONDecodeError:\n",
    "    print(f\"[ERROR] Error decoding JSON from {categories_file_path}\")\n",
    "    categories_data = {}\n",
    "\n",
    "if not categories_data:\n",
    "    print(\"[INFO] No categories loaded, scraper will not run.\")\n",
    "else:\n",
    "    print(f\"[INFO] Loaded categories: {list(categories_data.keys())}\")\n",
    "\n",
    "    for category, class_names in categories_data.items():\n",
    "        print(f\"\\n[INFO] Processing category: {category}\")\n",
    "        if not isinstance(class_names, list):\n",
    "            print(f\"[WARN] Expected a list of class names for category '{category}', but got {type(class_names)}. Skipping.\")\n",
    "            continue\n",
    "        \n",
    "        for class_name in class_names:\n",
    "            if not isinstance(class_name, str) or not class_name.strip():\n",
    "                print(f\"[WARN] Invalid class name '{class_name}' in category '{category}'. Skipping.\")\n",
    "                continue\n",
    "\n",
    "            print(f\"[INFO] Processing class: {class_name}\")\n",
    "            \n",
    "            # Construct the specific image path: output/<category>/<class_name>\n",
    "            current_image_path = os.path.join(base_image_path, category, class_name)\n",
    "            \n",
    "            # The search_key is the class_name itself\n",
    "            search_key = class_name\n",
    "            \n",
    "            print(f\"[INFO] Scraper params: webdriver_path='{webdriver_path}', image_path='{current_image_path}', search_key='{search_key}', number_of_images={number_of_images}\")\n",
    "\n",
    "            # Ensure the specific directory exists before scraper initialization (scraper also does this, but good practice)\n",
    "            if not os.path.exists(current_image_path):\n",
    "                os.makedirs(current_image_path)\n",
    "                print(f\"[INFO] Created directory: {current_image_path}\")\n",
    "\n",
    "            advanced_suffix = \" (filipino OR food OR meal)\"\n",
    "            image_scraper = GoogleImageScraper(webdriver_path, current_image_path, search_key, advanced_suffix, number_of_images, headless, min_resolution, max_resolution)\n",
    "            \n",
    "            image_urls = image_scraper.find_image_urls()\n",
    "            \n",
    "            if image_urls:\n",
    "                image_scraper.save_images(image_urls, keep_filenames=False) # keep_filenames can be set as needed\n",
    "            else:\n",
    "                print(f\"[INFO] No image URLs found for {search_key} in category {category}.\")\n",
    "    print(\"\\n[INFO] All categories and classes processed.\")\n"
   ]
  }
 ],
 "metadata": {
  "kernelspec": {
   "display_name": "venv (3.13.3)",
   "language": "python",
   "name": "python3"
  },
  "language_info": {
   "codemirror_mode": {
    "name": "ipython",
    "version": 3
   },
   "file_extension": ".py",
   "mimetype": "text/x-python",
   "name": "python",
   "nbconvert_exporter": "python",
   "pygments_lexer": "ipython3",
   "version": "3.13.3"
  }
 },
 "nbformat": 4,
 "nbformat_minor": 4
}
